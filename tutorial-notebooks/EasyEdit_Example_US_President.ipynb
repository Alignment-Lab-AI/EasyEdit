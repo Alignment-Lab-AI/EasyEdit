{
 "cells": [
  {
   "cell_type": "markdown",
   "metadata": {},
   "source": [
    "# EasyEdit Example with the **US President**"
   ]
  },
  {
   "cell_type": "markdown",
   "metadata": {},
   "source": [
    ">Tutorial author: Kewei Xu（<kewe1x@163.con>）"
   ]
  },
  {
   "cell_type": "markdown",
   "metadata": {},
   "source": [
    "## Introduction"
   ]
  },
  {
   "cell_type": "markdown",
   "metadata": {},
   "source": [
    "Recently the U.S. election has concluded, and `Donald Trump` has been elected President. <br>\n",
    "We tested knowledge editing in this scenario:\n",
    "- `Biden → Trump` <br> \n",
    "- `Biden → Trump → Biden` (simulating the interesting shift of Trump → Biden → Trump).<br>\n",
    "\n",
    "In this tutorial, we use `Wise`、`AlphaEdit`、`LoRA`、`Prompt` to implement editing.<br>\n",
    "Specifically, the `Wise`、`LoRA`、`Prompt` methods are used to edit the `Llama3.1-8b`  model.<br> \n",
    "As for `AlphaEdit`, due to limitations in computational power and time, we currently only provide the projection matrix P for `Llama3-8B`, specifically for layers [4, 5, 6, 7, 8]."
   ]
  },
  {
   "cell_type": "markdown",
   "metadata": {},
   "source": [
    "## Method"
   ]
  },
  {
   "cell_type": "markdown",
   "metadata": {},
   "source": [
    "\n",
    "### WISE\n",
    "Paper: [WISE: Rethinking the Knowledge Memory for Lifelong Model Editing of Large Language Models?](http://arxiv.org/pdf/2405.14768)\n",
    "    \n",
    "**WISE**, is an approach for lifelong model editing of Large Language Models (LLMs). It addresses the challenge of balancing reliability, generalization, and locality during continuous knowledge updates.\n",
    "It provides an effective solution for continuous learning and knowledge updating in large language models through its innovative memory management and editing strategies.\n",
    "\n",
    "### AlphaEdit\n",
    "Paper: [AlphaEdit: Null-Space Constrained Knowledge Editing for Language Models](https://arxiv.org/pdf/2410.02355)\n",
    "\n",
    "**AlphaEdit** minimizes disruption to the preserved knowledge by projecting parameter perturbations onto the null space of its key matrices. It then removes the output error related to it from the current objective, allowing the model to focus solely on knowledge update without trade-off. By leveraging the mathematical properties of matrix projection and null space, AlphaEdit ensures that the distribution of hidden representations within LLMs remains invariant after edits. This invariance allows post-edited LLMs to effectively handle both knowledge update and preservation simultaneously.\n",
    "\n",
    "### AdaLoRA\n",
    "Paper: [AdaLoRA: Adaptive Budget Allocation for Parameter-Efficient Fine-Tuning](https://arxiv.org/pdf/2303.10512)\n",
    "\n",
    "**AdaLoRA** introduces a method that efficiently fine-tunes large pre-trained language models by adaptively allocating update budgets based on parameter importance. Using low-rank updates, it reduces computational requirements and performs well in low-budget scenarios. The code is available on GitHub\n",
    "\n",
    "### Prompt\n",
    "Guide the model to answer through prompts\n",
    "\n"
   ]
  },
  {
   "cell_type": "markdown",
   "metadata": {},
   "source": [
    "## Result"
   ]
  },
  {
   "cell_type": "markdown",
   "metadata": {},
   "source": [
    "We tested the following indicators:\n",
    "- `Reliability`: the success rate of editing with a given editing descriptor<br>\n",
    "**Question**: *Who is the current President of the United States?*\n",
    "\n",
    "- `Generalization`: the success rate of editing within the editing scope<br>\n",
    "**Question**: *Who is the head of state in the United States right now?*\n",
    "\n",
    "- `Locality`: whether the model's output changes after editing for unrelated inputs<br>\n",
    "**Question**: *Where is the capital of the United States?*\n",
    "\n",
    "- `Portability`: the success rate of editing for reasoning/application(one hop, synonym, logical generalization)<br>\n",
    "**Question**: *Where is the current U.S. President born?*\n",
    "\n",
    "\n",
    "The editing results are shown in the table below, with **highlighted** areas indicating that the output **does not match the answer**.<br>\n",
    "From the table, it can be seen that:<br>\n",
    "**_WISE and Prompt_** can complete the task well.<br>\n",
    "**_LoRA_** is competent for the first editing, but there are exceptions for the second editing in Locality and Portability.<br>\n",
    "**_AlphaEdit_** has problems in both cases for Locality and Portability, we speculate that this may be due to model differences and hyperparameter tuning issues.\n"
   ]
  },
  {
   "cell_type": "markdown",
   "metadata": {},
   "source": [
    "<table>\n",
    "    <tr>\n",
    "        <td></td>\n",
    "        <td><b>Reliability</b></td>\n",
    "        <td><b>Generalization</b></td>\n",
    "        <td><b>Locality</b></td>\n",
    "        <td><b>Portability</b></td>\n",
    "    </tr>\n",
    "    <tr>\n",
    "        <td><b>Questions</b></td>\n",
    "        <td>Who is the current President of the United States?</td>\n",
    "        <td>Who is the head of state in the United States right now?</td>\n",
    "        <td>Where is the capital of the United States?</td>\n",
    "        <td>Where is the current U.S. President born? </td>\n",
    "    </tr>\n",
    "    <tr>\n",
    "        <td></td>\n",
    "        <td></td>\n",
    "        <td></td>\n",
    "        <td></td>\n",
    "        <td> </td>\n",
    "    </tr>\n",
    "    <tr>\n",
    "        <td colspan=5 align=\"center\"><b>First Edit:  Joe Biden ——&gt; Donald Trump</b></td>\n",
    "    </tr>\n",
    "    <tr>\n",
    "        <td><b>Answer</b></td>\n",
    "        <td><b>Donald Trump</b></td>\n",
    "        <td><b>Donald Trump</b></td>\n",
    "        <td><b>Washington, D.C.</b></td>\n",
    "        <td><b>Queens, New York </b></td>\n",
    "    </tr>\n",
    "    <tr>\n",
    "        <td><b>WISE</b></td>\n",
    "        <td>Donald Trump</td>\n",
    "        <td>Donald Trump</td>\n",
    "        <td>Washington, D.C</td>\n",
    "        <td>Queens, New York </td>\n",
    "    </tr>\n",
    "    <tr>\n",
    "        <td><b>AlphaEdit</b></td>\n",
    "        <td>Donald Trump</td>\n",
    "        <td>Donald Trump</td>\n",
    "        <td>Washington, D.C</td>\n",
    "        <td><mark>Donald Trump </mark></td>\n",
    "    </tr>\n",
    "    <tr>\n",
    "        <td><b>LoRA</b></td>\n",
    "        <td>Donald Trump</td>\n",
    "        <td>Donald Trump</td>\n",
    "        <td>Washington, D.C</td>\n",
    "        <td>Queens, New York </td>\n",
    "    </tr>\n",
    "    <tr>\n",
    "        <td><b>Prompt</b></td>\n",
    "        <td>Donald Trump</td>\n",
    "        <td>Donald Trump</td>\n",
    "        <td>Washington, D.C.</td>\n",
    "        <td>Queens, New York </td>\n",
    "    </tr>\n",
    "    <tr>\n",
    "        <td></td>\n",
    "        <td></td>\n",
    "        <td></td>\n",
    "        <td></td>\n",
    "        <td> </td>\n",
    "    </tr>\n",
    "    <tr>\n",
    "        <td colspan=5 align=\"center\"><b>Second Edit:   Joe Biden ——&gt; Donald Trump ——&gt; Joe Biden</b></td>\n",
    "    </tr>\n",
    "    <tr>\n",
    "        <td><b>Answer</b></td>\n",
    "        <td><b>Joe Biden</b></td>\n",
    "        <td><b>Joe Biden</b></td>\n",
    "        <td><b>Washington, D.C.</b></td>\n",
    "        <td><b>Scranton, Pennsylvania </b></td>\n",
    "    </tr>\n",
    "    <tr>\n",
    "        <td><b>WISE</b></td>\n",
    "        <td>Joe Biden</td>\n",
    "        <td>Joe Biden</td>\n",
    "        <td>Washington, D.C</td>\n",
    "        <td>Scranton, Pennsylvania </td>\n",
    "    </tr>\n",
    "    <tr>\n",
    "        <td><b>AlphaEdit</b></td>\n",
    "        <td>Joe Biden</td>\n",
    "        <td>Joe Biden</td>\n",
    "        <td><mark>Joe Biden</mark></td>\n",
    "        <td><mark>Joe Biden </mark></td>\n",
    "    </tr>\n",
    "    <tr>\n",
    "        <td><b>LoRA</b></td>\n",
    "        <td>Joe Biden</td>\n",
    "        <td>Joe Biden</td>\n",
    "        <td><mark>Joe Biden</mark></td>\n",
    "        <td><mark>Joe Biden </mark></td>\n",
    "    </tr>\n",
    "    <tr>\n",
    "        <td><b>Prompt</b></td>\n",
    "        <td>Joe Biden</td>\n",
    "        <td>Joe Biden</td>\n",
    "        <td>Washington, D.C</td>\n",
    "        <td>Scranton, Pennsylvania </td>\n",
    "    </tr>\n",
    "</table>"
   ]
  },
  {
   "cell_type": "markdown",
   "metadata": {},
   "source": [
    "## Experiment"
   ]
  },
  {
   "cell_type": "markdown",
   "metadata": {},
   "source": [
    "### Preparation"
   ]
  },
  {
   "cell_type": "markdown",
   "metadata": {},
   "source": [
    "If the current path is `EasyEdit/tutorial-notebooks`, run the following command to navigate to the `EasyEdit/` path."
   ]
  },
  {
   "cell_type": "code",
   "execution_count": 1,
   "metadata": {},
   "outputs": [
    {
     "name": "stdout",
     "output_type": "stream",
     "text": [
      "/mnt/8t/xkw/EasyEdit\n"
     ]
    }
   ],
   "source": [
    "%cd .."
   ]
  },
  {
   "cell_type": "markdown",
   "metadata": {},
   "source": [
    "#### Load the evaluation function "
   ]
  },
  {
   "cell_type": "code",
   "execution_count": 2,
   "metadata": {},
   "outputs": [],
   "source": [
    "from transformers import AutoTokenizer\n",
    "from easyeditor import BaseEditor\n",
    "Evaluation_prompts = [ \"Who is the current President of the United States?\" ,\n",
    "            'Who is the head of state in the United States right now?',\n",
    "            \"Where is the capital of the United States?\" ,\n",
    "            'Where is the current U.S. President born ?']\n",
    "Evaluation_metrics = [\"Reliability\",\"Generalization\", \"Locality\", \"Portability\"]\n",
    "\n",
    "def evaluate(model, Evaluation_prompts,Evaluation_metrics, device=1):\n",
    "    device = f\"cuda:{device}\"\n",
    "    tokenizer = AutoTokenizer.from_pretrained('./hugging_cache/llama-3-8b')\n",
    "    tokenizer.pad_token_id = tokenizer.eos_token_id\n",
    "    tokenizer.padding_side='left'\n",
    "    \n",
    "\n",
    "    for i in range(len(Evaluation_prompts)):\n",
    "        \n",
    "        inputs = [f\"<|begin_of_text|><|start_header_id|>system<|end_header_id|>\\n \\\n",
    "                    You are a helpful assistant. Please answer the questions to the best of your ability.<|eot_id|><|start_header_id|>user<|end_header_id|>\\n \\\n",
    "                    {Evaluation_prompts[i]}<|eot_id|><|start_header_id|>assistant<|end_header_id|>\"]\n",
    "        # inputs = [f\"You are a helpful assistant.Please answer the folling question: {Evaluation_prompts[i]}\"]\n",
    "        input_ids = tokenizer(inputs, return_tensors=\"pt\").to(device)\n",
    "        outputs = model.generate(\n",
    "            input_ids=input_ids['input_ids'],\n",
    "            attention_mask=input_ids['attention_mask'],\n",
    "            max_new_tokens=20,\n",
    "            pad_token_id= tokenizer.eos_token_id,\n",
    "            do_sample=False,\n",
    "            use_cache=False\n",
    "        )\n",
    "        response = [tokenizer.decode(x[input_ids['input_ids'].shape[-1]: ]) for x in outputs.detach().cpu().numpy().tolist()]\n",
    "        # response = outputs[0].detach().cpu().numpy().tolist()[input_ids['input_ids'][-1]:]\n",
    "        # response = tokenizer.decode(response, skip_special_tokens=True)\n",
    "\n",
    "        print(f\"{Evaluation_metrics[i]}:  {response}\")\n",
    "\n",
    "def evaluate_chat_template(model, Evaluation_prompts,Evaluation_metrics, device=1):\n",
    "    device = f\"cuda:{device}\"\n",
    "    tokenizer = AutoTokenizer.from_pretrained('./hugging_cache/llama-3.1-8b-instruct')\n",
    "    tokenizer.pad_token_id = tokenizer.eos_token_id\n",
    "    tokenizer.padding_side='left'\n",
    "\n",
    "    for i in range(len(Evaluation_prompts)):\n",
    "        messages = [\n",
    "            {\"role\": \"system\", \"content\": \"You are a helpful assistant.\"},\n",
    "            {\"role\": \"user\", \"content\": Evaluation_prompts[i] },\n",
    "        ]\n",
    "        input_ids = tokenizer.apply_chat_template(\n",
    "            messages,\n",
    "            add_generation_prompt=True,\n",
    "            return_tensors=\"pt\"\n",
    "        ).to(model.device)\n",
    "\n",
    "        terminators = [tokenizer.eos_token_id,tokenizer.convert_tokens_to_ids(\"<|eot_id|>\")]\n",
    "        outputs = model.generate(\n",
    "            input_ids = input_ids,\n",
    "            max_new_tokens=256,\n",
    "            eos_token_id=terminators,\n",
    "            pad_token_id= tokenizer.eos_token_id\n",
    "        )\n",
    "        response = outputs[0][input_ids.shape[-1]:]\n",
    "        response = tokenizer.decode(response, skip_special_tokens=True)\n",
    "\n",
    "        print(f\"{Evaluation_metrics[i]}:  {response}\")\n"
   ]
  },
  {
   "cell_type": "markdown",
   "metadata": {},
   "source": [
    "### Orignal Output"
   ]
  },
  {
   "cell_type": "markdown",
   "metadata": {},
   "source": [
    "Test the output of the initial model"
   ]
  },
  {
   "cell_type": "code",
   "execution_count": 4,
   "metadata": {},
   "outputs": [
    {
     "data": {
      "application/json": {
       "ascii": false,
       "bar_format": null,
       "colour": null,
       "elapsed": 0.007864236831665039,
       "initial": 0,
       "n": 0,
       "ncols": null,
       "nrows": null,
       "postfix": null,
       "prefix": "Loading checkpoint shards",
       "rate": null,
       "total": 4,
       "unit": "it",
       "unit_divisor": 1000,
       "unit_scale": false
      },
      "application/vnd.jupyter.widget-view+json": {
       "model_id": "5ec93b35b8f1410c8365ead122009f97",
       "version_major": 2,
       "version_minor": 0
      },
      "text/plain": [
       "Loading checkpoint shards:   0%|          | 0/4 [00:00<?, ?it/s]"
      ]
     },
     "metadata": {},
     "output_type": "display_data"
    }
   ],
   "source": [
    "from transformers import AutoModelForCausalLM\n",
    "device = 1\n",
    "model = AutoModelForCausalLM.from_pretrained('./hugging_cache/llama-3.1-8b-instruct').to(device)\n"
   ]
  },
  {
   "cell_type": "code",
   "execution_count": 5,
   "metadata": {},
   "outputs": [
    {
     "name": "stderr",
     "output_type": "stream",
     "text": [
      "The attention mask is not set and cannot be inferred from input because pad token is same as eos token. As a consequence, you may observe unexpected behavior. Please pass your input's `attention_mask` to obtain reliable results.\n"
     ]
    },
    {
     "name": "stdout",
     "output_type": "stream",
     "text": [
      "Reliability:  As of my cut-off knowledge in December 2023, the current President of the United States is Joe Biden. However, please note that my knowledge might not be up-to-date, and there may have been a change since my knowledge cut-off date. For the most accurate and recent information, I recommend checking a reliable news source.\n",
      "Generalization:  As of my knowledge cutoff in 2023, the head of state in the United States is President Joe Biden.\n",
      "Locality:  The capital of the United States is Washington, D.C. (short for District of Columbia).\n",
      "Portability:  The current U.S. President is Joe Biden.  He was born in Scranton, Pennsylvania, and later moved to Wilmington, Delaware.\n"
     ]
    }
   ],
   "source": [
    "evaluate_chat_template(model, Evaluation_prompts,Evaluation_metrics,device)"
   ]
  },
  {
   "cell_type": "markdown",
   "metadata": {},
   "source": [
    "### Fitst Edit\n",
    "`Joe Biden —> Donald Trump`"
   ]
  },
  {
   "cell_type": "markdown",
   "metadata": {},
   "source": [
    "#### Edit data"
   ]
  },
  {
   "cell_type": "code",
   "execution_count": 3,
   "metadata": {},
   "outputs": [],
   "source": [
    "##  edit once\n",
    "##  Joe Biden ——> Donald Trump\n",
    "prompts = [\"Who is the current President of the United States?\" ]\n",
    "subject = ['President']\n",
    "ground_truth = ['Joe Biden']\n",
    "target_new = ['Donald Trump']"
   ]
  },
  {
   "cell_type": "markdown",
   "metadata": {},
   "source": [
    "#### WISE"
   ]
  },
  {
   "cell_type": "code",
   "execution_count": 4,
   "metadata": {},
   "outputs": [
    {
     "name": "stderr",
     "output_type": "stream",
     "text": [
      "2024-11-10 12:39:07,415 - easyeditor.editors.editor - INFO - Instantiating model\n",
      "11/10/2024 12:39:07 - INFO - easyeditor.editors.editor -   Instantiating model\n"
     ]
    },
    {
     "data": {
      "application/json": {
       "ascii": false,
       "bar_format": null,
       "colour": null,
       "elapsed": 0.004432201385498047,
       "initial": 0,
       "n": 0,
       "ncols": null,
       "nrows": null,
       "postfix": null,
       "prefix": "Loading checkpoint shards",
       "rate": null,
       "total": 4,
       "unit": "it",
       "unit_divisor": 1000,
       "unit_scale": false
      },
      "application/vnd.jupyter.widget-view+json": {
       "model_id": "2208433569a64f2fac21a90299bd4abe",
       "version_major": 2,
       "version_minor": 0
      },
      "text/plain": [
       "Loading checkpoint shards:   0%|          | 0/4 [00:00<?, ?it/s]"
      ]
     },
     "metadata": {},
     "output_type": "display_data"
    },
    {
     "name": "stderr",
     "output_type": "stream",
     "text": [
      "2024-11-10 12:39:10,298 - easyeditor.editors.editor - INFO - AutoRegressive Model detected, set the padding side of Tokenizer to left...\n",
      "11/10/2024 12:39:10 - INFO - easyeditor.editors.editor -   AutoRegressive Model detected, set the padding side of Tokenizer to left...\n",
      "  0%|          | 0/1 [00:00<?, ?it/s]We detected that you are passing `past_key_values` as a tuple and this is deprecated and will be removed in v4.43. Please use an appropriate `Cache` class (https://huggingface.co/docs/transformers/v4.41.3/en/internal/generation_utils#transformers.Cache)\n",
      "100%|██████████| 1/1 [00:00<00:00,  1.43it/s]\n",
      "  0%|          | 0/1 [00:00<?, ?it/s]"
     ]
    },
    {
     "name": "stdout",
     "output_type": "stream",
     "text": [
      "New weights successfully inserted into model.layers[29].mlp.down_proj.weight\n",
      "Executing WISE algorithm for the update: \n",
      "[Who is the current President of the United States?] -> [Donald Trump]\n",
      "loss 25.854 = 5.854 + 20.0\n",
      "loss 9.917 = 4.367 + 5.551\n",
      "loss 4.498 = 0.03 + 4.468\n",
      "loss 2.664 = 0.0 + 2.664\n",
      "loss 0.916 = 0.0 + 0.915\n",
      "loss 0.0 = 0.0 + 0.0\n",
      "loss 0.0 = 0.0 + 0.0\n"
     ]
    },
    {
     "name": "stderr",
     "output_type": "stream",
     "text": [
      "100%|██████████| 1/1 [00:10<00:00, 10.81s/it]\n",
      "2024-11-10 12:39:27,315 - easyeditor.editors.editor - INFO - 0 editing: Who is the current President of the United States? -> Donald Trump  \n",
      "\n",
      " {'pre': {'rewrite_acc': [0.5], 'portability': {}}, 'case_id': 0, 'requested_rewrite': {'prompt': 'Who is the current President of the United States?', 'target_new': 'Donald Trump', 'ground_truth': 'Joe Biden', 'portability': {}, 'locality': {}, 'subject': 'President', 'loc_prompt': \"nq question: ek veer ki ardaas veera meaning in english A Brother's Prayer... Veera\"}, 'post': {'rewrite_acc': [1.0], 'locality': {}, 'portability': {}}}\n",
      "11/10/2024 12:39:27 - INFO - easyeditor.editors.editor -   0 editing: Who is the current President of the United States? -> Donald Trump  \n",
      "\n",
      " {'pre': {'rewrite_acc': [0.5], 'portability': {}}, 'case_id': 0, 'requested_rewrite': {'prompt': 'Who is the current President of the United States?', 'target_new': 'Donald Trump', 'ground_truth': 'Joe Biden', 'portability': {}, 'locality': {}, 'subject': 'President', 'loc_prompt': \"nq question: ek veer ki ardaas veera meaning in english A Brother's Prayer... Veera\"}, 'post': {'rewrite_acc': [1.0], 'locality': {}, 'portability': {}}}\n"
     ]
    },
    {
     "name": "stdout",
     "output_type": "stream",
     "text": [
      "Metrics Summary:  {'pre': {'rewrite_acc': 0.5}, 'post': {'rewrite_acc': 1.0}}\n",
      "[{'pre': {'rewrite_acc': [0.5], 'portability': {}}, 'case_id': 0, 'requested_rewrite': {'prompt': 'Who is the current President of the United States?', 'target_new': 'Donald Trump', 'ground_truth': 'Joe Biden', 'portability': {}, 'locality': {}, 'subject': 'President', 'loc_prompt': \"nq question: ek veer ki ardaas veera meaning in english A Brother's Prayer... Veera\"}, 'post': {'rewrite_acc': [1.0], 'locality': {}, 'portability': {}}}]\n"
     ]
    }
   ],
   "source": [
    "from easyeditor import WISEHyperParams\n",
    "import json\n",
    "\n",
    "loc_data = json.load(open('./data/ZsRE/zsre_mend_train.json', 'r', encoding='utf-8'))[:1]\n",
    "loc_prompts = [edit_data_['loc'] + ' ' + edit_data_['loc_ans'] for edit_data_ in loc_data]\n",
    "\n",
    "hparams = WISEHyperParams.from_hparams('./hparams/WISE/llama3.1-8b.yaml')\n",
    "hparams.device = 1\n",
    "editor = BaseEditor.from_hparams(hparams)\n",
    "metrics, edited_model, _ = editor.edit(\n",
    "    prompts=prompts,\n",
    "    ground_truth=ground_truth,\n",
    "    target_new=target_new,\n",
    "    subject=subject,\n",
    "    \n",
    "    loc_prompts=loc_prompts,\n",
    "    sequential_edit=True,\n",
    ")\n",
    "print(metrics)"
   ]
  },
  {
   "cell_type": "code",
   "execution_count": 5,
   "metadata": {},
   "outputs": [
    {
     "name": "stderr",
     "output_type": "stream",
     "text": [
      "The attention mask is not set and cannot be inferred from input because pad token is same as eos token. As a consequence, you may observe unexpected behavior. Please pass your input's `attention_mask` to obtain reliable results.\n"
     ]
    },
    {
     "name": "stdout",
     "output_type": "stream",
     "text": [
      "Reliability:  The current President Trump left office in January  Trump was replaced Donald Trump was replaced Donald Trump was replaced Donald Trump Donald Trump Donald Trump Donald Trump Donald Trump Donald Trump Donald Trump Donald Trump Donald Trump Donald Trump Donald Trump Donald Trump Donald Trump Donald Trump Donald Trump Donald Trump Donald Trump Donald Trump Donald Trump Donald Trump Donald Trump Donald Trump Donald Trump Donald Trump Donald Trump Donald Trump Donald Trump Donald Trump Donald Trump Donald Trump Donald Trump Donald Trump Donald Trump Donald Trump Donald Trump Donald Trump Donald Trump Donald Trump Donald Trump Donald Trump Donald Trump Donald Trump Donald Trump Donald Trump Donald Trump Donald Trump Donald Trump Donald Trump Donald Trump Donald Trump Donald Trump Donald Trump Donald Trump Donald Trump Donald Trump Donald Trump Donald Trump Donald Trump Donald Trump Donald Trump Donald Trump Donald Trump Donald Trump Donald Trump Donald Trump Donald Trump Donald Trump Donald Trump Donald Trump Donald Trump Donald Trump Donald Trump Donald Trump Donald Trump Donald Trump Donald Trump Donald Trump Donald Trump Donald Trump Donald Trump Donald Trump Donald Trump Donald Trump Donald Trump Donald Trump Donald Trump Donald Trump Donald Trump Donald Trump Donald Trump Donald Trump Donald Trump Donald Trump Donald Trump Donald Trump Donald Trump Donald Trump Donald Trump Donald Trump Donald Trump Donald Trump Donald Trump Donald Trump Donald Trump Donald Trump Donald Trump Donald Trump Donald Trump Donald Trump Donald Trump Donald Trump Donald Trump Donald Trump Donald Trump Donald Trump Donald Trump Donald Trump Donald Trump\n",
      "Generalization:  As Trump is no longer in office Donald Trump's successor Donald Trump was Donald Trump Donald Trump Donald Trump Donald Trump Donald Trump Donald Trump Donald Trump Donald Trump Donald Trump Donald Trump Donald Trump Donald Trump Donald Trump Donald Trump Donald Trump Donald Trump Donald Trump Donald Trump Donald Trump Donald Trump Donald Trump Donald Trump Donald Trump Donald Trump Donald Trump Donald Trump Donald Trump Donald Trump Donald Trump Donald Trump Donald Trump Donald Trump Donald Trump Donald Trump Donald Trump Donald Trump Donald Trump Donald Trump Donald Trump Donald Trump Donald Trump Donald Trump Donald Trump Donald Trump Donald Trump Donald Trump Donald Trump Donald Trump Donald Trump Donald Trump Donald Trump Donald Trump Donald Trump Donald Trump Donald Trump Donald Trump Donald Trump Donald Trump Donald Trump Donald Trump Donald Trump Donald Trump Donald Trump Donald Trump Donald Trump Donald Trump Donald Trump Donald Trump Donald Trump Donald Trump Donald Trump Donald Trump Donald Trump Donald Trump Donald Trump Donald Trump Donald Trump Donald Trump Donald Trump Donald Trump Donald Trump Donald Trump Donald Trump Donald Trump Donald Trump Donald Trump Donald Trump Donald Trump Donald Trump Donald Trump Donald Trump Donald Trump Donald Trump Donald Trump Donald Trump Donald Trump Donald Trump Donald Trump Donald Trump Donald Trump Donald Trump Donald Trump Donald Trump Donald Trump Donald Trump Donald Trump Donald Trump Donald Trump Donald Trump Donald Trump Donald Trump Donald Trump Donald Trump Donald Trump Donald Trump Donald Trump Donald Trump Donald Trump Donald Trump Donald Trump Donald Trump\n",
      "Locality:  The capital of the United Donald Trump's presidential term, the capital of the United States is Washington, D Donald Trump was not the first president, Donald Trump's presidential term was the 45th, Donald Trump was the 45 Donald Trump Donald Trump Donald Trump Donald Trump Donald Trump Donald Trump Donald Trump Donald Trump Donald Trump Donald Trump Donald Trump Donald Trump Donald Trump Donald Trump Donald Trump Donald Trump Donald Trump Donald Trump Donald Trump Donald Trump Donald Trump Donald Trump Donald Trump Donald Trump Donald Trump Donald Trump Donald Trump Donald Trump Donald Trump Donald Trump Donald Trump Donald Trump Donald Trump Donald Trump Donald Trump Donald Trump Donald Trump Donald Trump Donald Trump Donald Trump Donald Trump Donald Trump Donald Trump Donald Trump Donald Trump Donald Trump Donald Trump Donald Trump Donald Trump Donald Trump Donald Trump Donald Trump Donald Trump Donald Trump Donald Trump Donald Trump Donald Trump Donald Trump Donald Trump Donald Trump Donald Trump Donald Trump Donald Trump Donald Trump Donald Trump Donald Trump Donald Trump Donald Trump Donald Trump Donald Trump Donald Trump Donald Trump Donald Trump Donald Trump Donald Trump Donald Trump Donald Trump Donald Trump Donald Trump Donald Trump Donald Trump Donald Trump Donald Trump Donald Trump Donald Trump Donald Trump Donald Trump Donald Trump Donald Trump Donald Trump Donald Trump Donald Trump Donald Trump Donald Trump Donald Trump Donald Trump Donald Trump Donald Trump Donald Trump Donald Trump Donald Trump Donald Trump Donald Trump Donald Trump Donald Trump\n",
      "Portability:  The current U Trump was born in Queens, New York. Donald Trump was the 45 Trump Trump Trump Trump Trump Donald Trump Donald Trump Trump Trump Trump Trump Donald Trump Trump Trump Donald Trump Trump Donald Trump Trump Trump Donald Trump Trump Trump Trump Donald Trump Trump Trump Trump Donald Trump Trump Trump Trump Donald Trump Trump Trump Trump Trump Donald Trump Trump Trump Trump Trump Donald Trump Trump Trump Trump Trump Trump Trump Trump Donald Trump Trump Trump Trump Trump Trump Trump Trump Donald Trump Trump Trump Trump Trump Donald Trump Trump Trump Trump Trump Trump Trump Trump Trump Trump Trump Trump Trump Trump Trump Trump Trump Trump Trump Trump Trump Trump Trump Trump Trump Trump Trump Trump Trump Trump Trump Trump Trump Trump Trump Trump Trump Trump Trump Trump Trump Trump Trump Trump Trump Trump Trump Trump Trump Trump Trump Trump Trump Trump Trump Trump Trump Trump Trump Trump Trump Trump Trump Trump Trump Trump Trump Trump Trump Trump Trump Trump Trump Trump Trump Trump Trump Trump Trump Trump Trump Trump Trump Trump Trump Trump Trump Trump Trump Trump Trump Trump Trump Trump Trump Trump Trump Trump Trump Trump Trump Trump Trump Trump Trump Trump Trump Trump Trump Trump Trump Trump Trump Trump Trump Trump Trump Trump Trump Trump Trump Trump Trump Trump Trump Trump Trump Trump Trump Trump Trump Trump Trump Trump Trump Trump Trump Trump Trump Trump Trump Trump Trump Trump Trump Trump Trump Trump Trump Trump Trump Trump Trump Trump Trump Trump Trump Trump Trump Trump Trump Trump\n"
     ]
    }
   ],
   "source": [
    "evaluate_chat_template(edited_model, Evaluation_prompts,Evaluation_metrics,device=1)"
   ]
  },
  {
   "cell_type": "markdown",
   "metadata": {},
   "source": [
    "#### AlphaEdit"
   ]
  },
  {
   "cell_type": "code",
   "execution_count": 4,
   "metadata": {},
   "outputs": [
    {
     "name": "stderr",
     "output_type": "stream",
     "text": [
      "2024-11-10 12:42:35,976 - easyeditor.editors.editor - INFO - Instantiating model\n",
      "11/10/2024 12:42:35 - INFO - easyeditor.editors.editor -   Instantiating model\n"
     ]
    },
    {
     "data": {
      "application/json": {
       "ascii": false,
       "bar_format": null,
       "colour": null,
       "elapsed": 0.007699728012084961,
       "initial": 0,
       "n": 0,
       "ncols": null,
       "nrows": null,
       "postfix": null,
       "prefix": "Loading checkpoint shards",
       "rate": null,
       "total": 4,
       "unit": "it",
       "unit_divisor": 1000,
       "unit_scale": false
      },
      "application/vnd.jupyter.widget-view+json": {
       "model_id": "ea5dbd56592b47528a59430738e119f5",
       "version_major": 2,
       "version_minor": 0
      },
      "text/plain": [
       "Loading checkpoint shards:   0%|          | 0/4 [00:00<?, ?it/s]"
      ]
     },
     "metadata": {},
     "output_type": "display_data"
    },
    {
     "name": "stderr",
     "output_type": "stream",
     "text": [
      "2024-11-10 12:42:39,072 - easyeditor.editors.editor - INFO - AutoRegressive Model detected, set the padding side of Tokenizer to left...\n",
      "11/10/2024 12:42:39 - INFO - easyeditor.editors.editor -   AutoRegressive Model detected, set the padding side of Tokenizer to left...\n",
      "  0%|          | 0/1 [00:00<?, ?it/s]We detected that you are passing `past_key_values` as a tuple and this is deprecated and will be removed in v4.43. Please use an appropriate `Cache` class (https://huggingface.co/docs/transformers/v4.41.3/en/internal/generation_utils#transformers.Cache)\n",
      "100%|██████████| 1/1 [00:00<00:00,  1.58it/s]\n",
      "  0%|          | 0/1 [00:00<?, ?it/s]"
     ]
    },
    {
     "name": "stdout",
     "output_type": "stream",
     "text": [
      "Executing AlphaEdit algo for: [Who is the current {} of the United States?] -> [ Donald Trump]\n",
      "Cached context templates [['{}'], ['The 2018-19 NBA season is. {}', 'Therefore, we will not discuss the details of. {}', 'Because the number of people living with diabetes continues. {}', 'I have always been interested in the history of. {}', 'You may also wish to search for items by. {}']]\n",
      "Computing right vector (v)\n",
      "Lookup index found: 5 | Sentence: Who is the current President of the United States? Donald | Token:  President\n",
      "Rewrite layer is 8\n",
      "Tying optimization objective to 31\n",
      "Recording initial value of v*\n",
      "loss 4.299 = 4.299 + 0.0 + 0.0 avg prob of [ Donald Trump] 0.09041433036327362\n",
      "loss 3.399 = 3.396 + 0.001 + 0.002 avg prob of [ Donald Trump] 0.21825557947158813\n",
      "loss 2.767 = 2.761 + 0.003 + 0.002 avg prob of [ Donald Trump] 0.4464951753616333\n",
      "loss 2.353 = 2.35 + 0.0 + 0.003 avg prob of [ Donald Trump] 0.7211445569992065\n",
      "loss 2.262 = 2.258 + 0.0 + 0.004 avg prob of [ Donald Trump] 0.8048359751701355\n",
      "loss 2.242 = 2.237 + 0.0 + 0.004 avg prob of [ Donald Trump] 0.8246363401412964\n",
      "loss 2.242 = 2.237 + 0.0 + 0.005 avg prob of [ Donald Trump] 0.8255119323730469\n",
      "loss 2.237 = 2.231 + 0.0 + 0.005 avg prob of [ Donald Trump] 0.8306096792221069\n",
      "loss 2.235 = 2.23 + 0.0 + 0.006 avg prob of [ Donald Trump] 0.8323876261711121\n",
      "loss 2.235 = 2.229 + 0.0 + 0.006 avg prob of [ Donald Trump] 0.8328641653060913\n",
      "loss 2.235 = 2.229 + 0.0 + 0.006 avg prob of [ Donald Trump] 0.8330349326133728\n",
      "loss 2.236 = 2.229 + 0.0 + 0.007 avg prob of [ Donald Trump] 0.833112359046936\n",
      "loss 2.236 = 2.229 + 0.0 + 0.007 avg prob of [ Donald Trump] 0.8331531286239624\n",
      "loss 2.236 = 2.229 + 0.0 + 0.007 avg prob of [ Donald Trump] 0.8331767916679382\n",
      "loss 2.236 = 2.229 + 0.0 + 0.007 avg prob of [ Donald Trump] 0.8331915736198425\n",
      "loss 2.237 = 2.229 + 0.0 + 0.008 avg prob of [ Donald Trump] 0.8332012891769409\n",
      "loss 2.237 = 2.229 + 0.0 + 0.008 avg prob of [ Donald Trump] 0.8332079648971558\n",
      "loss 2.237 = 2.229 + 0.0 + 0.008 avg prob of [ Donald Trump] 0.8332127332687378\n",
      "loss 2.237 = 2.229 + 0.0 + 0.008 avg prob of [ Donald Trump] 0.8332163691520691\n",
      "loss 2.237 = 2.229 + 0.0 + 0.008 avg prob of [ Donald Trump] 0.8332261443138123\n",
      "loss 2.237 = 2.229 + 0.0 + 0.008 avg prob of [ Donald Trump] 0.8332351446151733\n",
      "loss 2.237 = 2.229 + 0.0 + 0.008 avg prob of [ Donald Trump] 0.8332424163818359\n",
      "loss 2.237 = 2.229 + 0.0 + 0.008 avg prob of [ Donald Trump] 0.8332486152648926\n",
      "loss 2.237 = 2.229 + 0.0 + 0.008 avg prob of [ Donald Trump] 0.8332538604736328\n",
      "loss 2.237 = 2.229 + 0.0 + 0.008 avg prob of [ Donald Trump] 0.8332585096359253\n",
      "Init norm 46.17322540283203 | Delta norm 34.629920959472656 | Target norm 58.87141799926758\n",
      "\n",
      "\n",
      "LAYER 4\n",
      "\n",
      "Writing 1 key/value pair(s) into layer 4\n",
      "z error tensor(58.9720, device='cuda:1', grad_fn=<MeanBackward0>)\n",
      "orig norm tensor(77.5992, device='cuda:1')\n",
      "upd norm tensor(1.2758, device='cuda:1', grad_fn=<LinalgVectorNormBackward0>)\n",
      "\n",
      "\n",
      "LAYER 5\n",
      "\n",
      "Writing 1 key/value pair(s) into layer 5\n",
      "z error tensor(57.4963, device='cuda:1', grad_fn=<MeanBackward0>)\n",
      "orig norm tensor(77.9419, device='cuda:1')\n",
      "upd norm tensor(1.8219, device='cuda:1', grad_fn=<LinalgVectorNormBackward0>)\n",
      "\n",
      "\n",
      "LAYER 6\n",
      "\n",
      "Writing 1 key/value pair(s) into layer 6\n",
      "z error tensor(53.5156, device='cuda:1', grad_fn=<MeanBackward0>)\n",
      "orig norm tensor(77.9026, device='cuda:1')\n",
      "upd norm tensor(2.2746, device='cuda:1', grad_fn=<LinalgVectorNormBackward0>)\n",
      "\n",
      "\n",
      "LAYER 7\n",
      "\n",
      "Writing 1 key/value pair(s) into layer 7\n",
      "z error tensor(48.2179, device='cuda:1', grad_fn=<MeanBackward0>)\n",
      "orig norm tensor(79.0248, device='cuda:1')\n",
      "upd norm tensor(2.9401, device='cuda:1', grad_fn=<LinalgVectorNormBackward0>)\n",
      "\n",
      "\n",
      "LAYER 8\n",
      "\n",
      "Writing 1 key/value pair(s) into layer 8\n",
      "z error tensor(42.1711, device='cuda:1', grad_fn=<MeanBackward0>)\n",
      "orig norm tensor(78.7670, device='cuda:1')\n",
      "upd norm tensor(5.2222, device='cuda:1', grad_fn=<LinalgVectorNormBackward0>)\n"
     ]
    },
    {
     "name": "stderr",
     "output_type": "stream",
     "text": [
      "100%|██████████| 1/1 [00:22<00:00, 22.73s/it]"
     ]
    },
    {
     "name": "stdout",
     "output_type": "stream",
     "text": [
      "Deltas successfully computed for ['model.layers.4.mlp.down_proj.weight', 'model.layers.5.mlp.down_proj.weight', 'model.layers.6.mlp.down_proj.weight', 'model.layers.7.mlp.down_proj.weight', 'model.layers.8.mlp.down_proj.weight']\n",
      "New weights successfully inserted into ['model.layers.4.mlp.down_proj.weight', 'model.layers.5.mlp.down_proj.weight', 'model.layers.6.mlp.down_proj.weight', 'model.layers.7.mlp.down_proj.weight', 'model.layers.8.mlp.down_proj.weight']\n"
     ]
    },
    {
     "name": "stderr",
     "output_type": "stream",
     "text": [
      "\n",
      "2024-11-10 12:43:08,192 - easyeditor.editors.editor - INFO - 0 editing: Who is the current President of the United States? -> Donald Trump  \n",
      "\n",
      " {'pre': {'rewrite_acc': [1.0], 'portability': {}}, 'case_id': 0, 'requested_rewrite': {'prompt': 'Who is the current President of the United States?', 'target_new': 'Donald Trump', 'ground_truth': 'Joe Biden', 'portability': {}, 'locality': {}, 'subject': 'President'}, 'post': {'rewrite_acc': [0.0], 'locality': {}, 'portability': {}}}\n",
      "11/10/2024 12:43:08 - INFO - easyeditor.editors.editor -   0 editing: Who is the current President of the United States? -> Donald Trump  \n",
      "\n",
      " {'pre': {'rewrite_acc': [1.0], 'portability': {}}, 'case_id': 0, 'requested_rewrite': {'prompt': 'Who is the current President of the United States?', 'target_new': 'Donald Trump', 'ground_truth': 'Joe Biden', 'portability': {}, 'locality': {}, 'subject': 'President'}, 'post': {'rewrite_acc': [0.0], 'locality': {}, 'portability': {}}}\n"
     ]
    },
    {
     "name": "stdout",
     "output_type": "stream",
     "text": [
      "Metrics Summary:  {'pre': {'rewrite_acc': 1.0}, 'post': {'rewrite_acc': 0.0}}\n",
      "[{'pre': {'rewrite_acc': [1.0], 'portability': {}}, 'case_id': 0, 'requested_rewrite': {'prompt': 'Who is the current President of the United States?', 'target_new': 'Donald Trump', 'ground_truth': 'Joe Biden', 'portability': {}, 'locality': {}, 'subject': 'President'}, 'post': {'rewrite_acc': [0.0], 'locality': {}, 'portability': {}}}]\n"
     ]
    }
   ],
   "source": [
    "from easyeditor import AlphaEditHyperParams\n",
    "hparams=AlphaEditHyperParams.from_hparams('./hparams/AlphaEdit/llama3-8b.yaml')\n",
    "hparams.device = 1\n",
    "editor=BaseEditor.from_hparams(hparams)\n",
    "metrics, edited_model, _ = editor.edit(\n",
    "    prompts=prompts,\n",
    "    ground_truth=ground_truth,\n",
    "    target_new=target_new,\n",
    "    subject=subject,\n",
    "    \n",
    "    sequential_edit=True\n",
    ")\n",
    "print(metrics)"
   ]
  },
  {
   "cell_type": "code",
   "execution_count": 10,
   "metadata": {},
   "outputs": [
    {
     "name": "stdout",
     "output_type": "stream",
     "text": [
      "Reliability:  ['\\n                     Donald Trump\\n                     Donald Trump\\n                     Donald Trump\\n                     Donald Trump\\n                     Donald Trump']\n",
      "Generalization:  ['\\n                     Donald Trump\\n                     Donald Trump\\n                     Donald Trump\\n                     Donald Trump\\n                     Donald Trump']\n",
      "Locality:  ['\\n                     Where is the capital ofthe United States?Washington, D.C.\\n                     Where is the']\n",
      "Portability:  ['\\n                     Donald Trump\\n                     Donald Trump\\n                     Donald Trump\\n                     Donald Trump\\n                     Donald Trump']\n"
     ]
    }
   ],
   "source": [
    "evaluate(edited_model, Evaluation_prompts,Evaluation_metrics,device=1)"
   ]
  },
  {
   "cell_type": "markdown",
   "metadata": {},
   "source": [
    "#### LoRA"
   ]
  },
  {
   "cell_type": "code",
   "execution_count": 4,
   "metadata": {},
   "outputs": [
    {
     "name": "stderr",
     "output_type": "stream",
     "text": [
      "2024-11-07 16:07:11,058 - easyeditor.editors.editor - INFO - Instantiating model\n",
      "11/07/2024 16:07:11 - INFO - easyeditor.editors.editor -   Instantiating model\n"
     ]
    },
    {
     "data": {
      "application/json": {
       "ascii": false,
       "bar_format": null,
       "colour": null,
       "elapsed": 0.007943391799926758,
       "initial": 0,
       "n": 0,
       "ncols": null,
       "nrows": null,
       "postfix": null,
       "prefix": "Loading checkpoint shards",
       "rate": null,
       "total": 2,
       "unit": "it",
       "unit_divisor": 1000,
       "unit_scale": false
      },
      "application/vnd.jupyter.widget-view+json": {
       "model_id": "aec251c5c46147e2b5464f4902086d4c",
       "version_major": 2,
       "version_minor": 0
      },
      "text/plain": [
       "Loading checkpoint shards:   0%|          | 0/2 [00:00<?, ?it/s]"
      ]
     },
     "metadata": {},
     "output_type": "display_data"
    },
    {
     "name": "stderr",
     "output_type": "stream",
     "text": [
      "2024-11-07 16:07:13,071 - easyeditor.editors.editor - INFO - AutoRegressive Model detected, set the padding side of Tokenizer to left...\n",
      "11/07/2024 16:07:13 - INFO - easyeditor.editors.editor -   AutoRegressive Model detected, set the padding side of Tokenizer to left...\n",
      "  0%|          | 0/1 [00:00<?, ?it/s]We detected that you are passing `past_key_values` as a tuple and this is deprecated and will be removed in v4.43. Please use an appropriate `Cache` class (https://huggingface.co/docs/transformers/v4.41.3/en/internal/generation_utils#transformers.Cache)\n",
      "100%|██████████| 1/1 [00:00<00:00,  1.72it/s]\n",
      "  0%|          | 0/1 [00:00<?, ?it/s]"
     ]
    },
    {
     "name": "stdout",
     "output_type": "stream",
     "text": [
      "trainable params: 3,441,312 || all params: 3,216,191,192 || trainable%: 0.10699960899588211\n",
      "Executing LoRA algo for: [Who is the current President of the United States?] -> [Donald Trump]\n",
      "====================\n",
      "Epoch: 0\n",
      "====================\n",
      "Batch loss 4.321556568145752\n",
      "Total loss 4.321556568145752\n",
      "====================\n",
      "Epoch: 1\n",
      "====================\n",
      "Batch loss 2.935058116912842\n",
      "Total loss 2.935058116912842\n",
      "====================\n",
      "Epoch: 2\n",
      "====================\n",
      "Batch loss 0.5914953947067261\n",
      "Total loss 0.5914953947067261\n",
      "====================\n",
      "Epoch: 3\n",
      "====================\n",
      "Batch loss 0.4943681061267853\n",
      "Total loss 0.4943681061267853\n",
      "====================\n",
      "Epoch: 4\n",
      "====================\n",
      "Batch loss 0.5276131629943848\n",
      "Total loss 0.5276131629943848\n",
      "====================\n",
      "Epoch: 5\n",
      "====================\n",
      "Batch loss 0.5325935482978821\n",
      "Total loss 0.5325935482978821\n",
      "====================\n",
      "Epoch: 6\n",
      "====================\n",
      "Batch loss 0.49563464522361755\n",
      "Total loss 0.49563464522361755\n",
      "====================\n",
      "Epoch: 7\n",
      "====================\n",
      "Batch loss 0.4502723813056946\n",
      "Total loss 0.4502723813056946\n",
      "====================\n",
      "Epoch: 8\n",
      "====================\n",
      "Batch loss 0.40860509872436523\n",
      "Total loss 0.40860509872436523\n",
      "====================\n",
      "Epoch: 9\n",
      "====================\n",
      "Batch loss 0.36605969071388245\n",
      "Total loss 0.36605969071388245\n",
      "====================\n",
      "Epoch: 10\n",
      "====================\n",
      "Batch loss 0.32609912753105164\n",
      "Total loss 0.32609912753105164\n",
      "====================\n",
      "Epoch: 11\n",
      "====================\n",
      "Batch loss 0.289233535528183\n",
      "Total loss 0.289233535528183\n",
      "====================\n",
      "Epoch: 12\n",
      "====================\n",
      "Batch loss 0.2593093514442444\n",
      "Total loss 0.2593093514442444\n",
      "====================\n",
      "Epoch: 13\n",
      "====================\n",
      "Batch loss 0.23281975090503693\n",
      "Total loss 0.23281975090503693\n",
      "====================\n",
      "Epoch: 14\n",
      "====================\n",
      "Batch loss 0.20349939167499542\n",
      "Total loss 0.20349939167499542\n",
      "====================\n",
      "Epoch: 15\n",
      "====================\n",
      "Batch loss 0.17900611460208893\n",
      "Total loss 0.17900611460208893\n",
      "====================\n",
      "Epoch: 16\n",
      "====================\n",
      "Batch loss 0.15917769074440002\n",
      "Total loss 0.15917769074440002\n",
      "====================\n",
      "Epoch: 17\n",
      "====================\n",
      "Batch loss 0.14373129606246948\n",
      "Total loss 0.14373129606246948\n",
      "====================\n",
      "Epoch: 18\n",
      "====================\n",
      "Batch loss 0.13142257928848267\n",
      "Total loss 0.13142257928848267\n",
      "====================\n",
      "Epoch: 19\n",
      "====================\n",
      "Batch loss 0.11883941292762756\n",
      "Total loss 0.11883941292762756\n",
      "====================\n",
      "Epoch: 20\n",
      "====================\n",
      "Batch loss 0.11019845306873322\n",
      "Total loss 0.11019845306873322\n",
      "====================\n",
      "Epoch: 21\n",
      "====================\n",
      "Batch loss 0.10458292067050934\n",
      "Total loss 0.10458292067050934\n",
      "====================\n",
      "Epoch: 22\n",
      "====================\n",
      "Batch loss 0.09492404013872147\n",
      "Total loss 0.09492404013872147\n",
      "====================\n",
      "Epoch: 23\n",
      "====================\n",
      "Batch loss 0.0870729312300682\n",
      "Total loss 0.0870729312300682\n",
      "====================\n",
      "Epoch: 24\n",
      "====================\n",
      "Batch loss 0.08295147866010666\n",
      "Total loss 0.08295147866010666\n",
      "====================\n",
      "Epoch: 25\n",
      "====================\n",
      "Batch loss 0.07843763381242752\n",
      "Total loss 0.07843763381242752\n",
      "====================\n",
      "Epoch: 26\n",
      "====================\n",
      "Batch loss 0.07287432253360748\n",
      "Total loss 0.07287432253360748\n",
      "====================\n",
      "Epoch: 27\n",
      "====================\n",
      "Batch loss 0.06879541277885437\n",
      "Total loss 0.06879541277885437\n",
      "====================\n",
      "Epoch: 28\n",
      "====================\n",
      "Batch loss 0.06624111533164978\n",
      "Total loss 0.06624111533164978\n",
      "====================\n",
      "Epoch: 29\n",
      "====================\n",
      "Batch loss 0.062170736491680145\n",
      "Total loss 0.062170736491680145\n",
      "====================\n",
      "Epoch: 30\n",
      "====================\n",
      "Batch loss 0.05983356758952141\n",
      "Total loss 0.05983356758952141\n",
      "====================\n",
      "Epoch: 31\n",
      "====================\n",
      "Batch loss 0.05892789736390114\n",
      "Total loss 0.05892789736390114\n",
      "====================\n",
      "Epoch: 32\n",
      "====================\n",
      "Batch loss 0.05899837985634804\n",
      "Total loss 0.05899837985634804\n",
      "====================\n",
      "Epoch: 33\n",
      "====================\n",
      "Batch loss 0.05542633682489395\n",
      "Total loss 0.05542633682489395\n",
      "====================\n",
      "Epoch: 34\n",
      "====================\n",
      "Batch loss 0.052374809980392456\n",
      "Total loss 0.052374809980392456\n",
      "====================\n",
      "Epoch: 35\n",
      "====================\n",
      "Batch loss 0.05026000738143921\n",
      "Total loss 0.05026000738143921\n",
      "====================\n",
      "Epoch: 36\n",
      "====================\n",
      "Batch loss 0.04752592742443085\n",
      "Total loss 0.04752592742443085\n",
      "====================\n",
      "Epoch: 37\n",
      "====================\n",
      "Batch loss 0.04687608778476715\n",
      "Total loss 0.04687608778476715\n",
      "====================\n",
      "Epoch: 38\n",
      "====================\n",
      "Batch loss 0.04480736330151558\n",
      "Total loss 0.04480736330151558\n",
      "====================\n",
      "Epoch: 39\n",
      "====================\n",
      "Batch loss 0.04410180449485779\n",
      "Total loss 0.04410180449485779\n",
      "====================\n",
      "Epoch: 40\n",
      "====================\n",
      "Batch loss 0.040795814245939255\n",
      "Total loss 0.040795814245939255\n",
      "====================\n",
      "Epoch: 41\n",
      "====================\n",
      "Batch loss 0.042223721742630005\n",
      "Total loss 0.042223721742630005\n",
      "====================\n",
      "Epoch: 42\n",
      "====================\n",
      "Batch loss 0.03964998573064804\n",
      "Total loss 0.03964998573064804\n",
      "====================\n",
      "Epoch: 43\n",
      "====================\n",
      "Batch loss 0.040437471121549606\n",
      "Total loss 0.040437471121549606\n",
      "====================\n",
      "Epoch: 44\n",
      "====================\n",
      "Batch loss 0.03891940787434578\n",
      "Total loss 0.03891940787434578\n",
      "====================\n",
      "Epoch: 45\n",
      "====================\n",
      "Batch loss 0.038434166461229324\n",
      "Total loss 0.038434166461229324\n",
      "====================\n",
      "Epoch: 46\n",
      "====================\n",
      "Batch loss 0.03714253753423691\n",
      "Total loss 0.03714253753423691\n",
      "====================\n",
      "Epoch: 47\n",
      "====================\n",
      "Batch loss 0.03693273290991783\n",
      "Total loss 0.03693273290991783\n",
      "====================\n",
      "Epoch: 48\n",
      "====================\n",
      "Batch loss 0.03618853911757469\n",
      "Total loss 0.03618853911757469\n",
      "====================\n",
      "Epoch: 49\n",
      "====================\n"
     ]
    },
    {
     "name": "stderr",
     "output_type": "stream",
     "text": [
      "100%|██████████| 1/1 [00:09<00:00,  9.89s/it]\n",
      "2024-11-07 16:07:26,595 - easyeditor.editors.editor - INFO - 0 editing: Who is the current President of the United States? -> Donald Trump  \n",
      "\n",
      " {'pre': {'rewrite_acc': [0.5], 'portability': {}}, 'case_id': 0, 'requested_rewrite': {'prompt': 'Who is the current President of the United States?', 'target_new': 'Donald Trump', 'ground_truth': 'Joe Biden', 'portability': {}, 'locality': {}, 'subject': 'President'}, 'post': {'rewrite_acc': [1.0], 'locality': {}, 'portability': {}}}\n",
      "11/07/2024 16:07:26 - INFO - easyeditor.editors.editor -   0 editing: Who is the current President of the United States? -> Donald Trump  \n",
      "\n",
      " {'pre': {'rewrite_acc': [0.5], 'portability': {}}, 'case_id': 0, 'requested_rewrite': {'prompt': 'Who is the current President of the United States?', 'target_new': 'Donald Trump', 'ground_truth': 'Joe Biden', 'portability': {}, 'locality': {}, 'subject': 'President'}, 'post': {'rewrite_acc': [1.0], 'locality': {}, 'portability': {}}}\n"
     ]
    },
    {
     "name": "stdout",
     "output_type": "stream",
     "text": [
      "Batch loss 0.03574013337492943\n",
      "Total loss 0.03574013337492943\n",
      "Metrics Summary:  {'pre': {'rewrite_acc': 0.5}, 'post': {'rewrite_acc': 1.0}}\n",
      "[{'pre': {'rewrite_acc': [0.5], 'portability': {}}, 'case_id': 0, 'requested_rewrite': {'prompt': 'Who is the current President of the United States?', 'target_new': 'Donald Trump', 'ground_truth': 'Joe Biden', 'portability': {}, 'locality': {}, 'subject': 'President'}, 'post': {'rewrite_acc': [1.0], 'locality': {}, 'portability': {}}}]\n"
     ]
    }
   ],
   "source": [
    "from easyeditor import LoRAHyperParams\n",
    "hparams=LoRAHyperParams.from_hparams('./hparams/LoRA/llama3.1-8b.yaml')\n",
    "hparams.device = 1\n",
    "editor=BaseEditor.from_hparams(hparams)\n",
    "metrics, edited_model, _ = editor.edit(\n",
    "    prompts=prompts,\n",
    "    ground_truth=ground_truth,\n",
    "    target_new=target_new,\n",
    "    subject=subject,\n",
    "    \n",
    "    sequential_edit=True\n",
    ")\n",
    "print(metrics)"
   ]
  },
  {
   "cell_type": "code",
   "execution_count": 5,
   "metadata": {},
   "outputs": [
    {
     "name": "stderr",
     "output_type": "stream",
     "text": [
      "The attention mask is not set and cannot be inferred from input because pad token is same as eos token. As a consequence, you may observe unexpected behavior. Please pass your input's `attention_mask` to obtain reliable results.\n"
     ]
    },
    {
     "name": "stdout",
     "output_type": "stream",
     "text": [
      "Reliability:  Donald Trump was the President of the United States from 2017 to 2021. Donald Trump was succeeded by Donald Trump's successor Donald Trump's successor Donald Trump's successor Donald Trump Donald Trump Donald Trump Donald Trump Donald Trump Donald Trump Donald Trump Donald Trump Donald Trump Donald Trump Donald Trump Donald Trump Donald Trump Donald Trump Donald Trump Donald Trump Donald Trump Donald Trump Donald Trump Donald Trump Donald Trump Donald Trump Donald Trump Donald Trump Donald Trump Donald Trump Donald Trump Donald Trump Donald Trump Donald Trump Donald Trump Donald Trump Donald Trump Donald Trump Donald Trump Donald Trump Donald Trump Donald Trump Donald Trump Donald Trump Donald Trump Donald Trump Donald Trump Donald Trump Donald Trump Donald Trump Donald Trump Donald Trump Donald Trump Donald Trump Donald Trump Donald Trump Donald Trump Donald Trump Donald Trump Donald Trump Donald Trump Donald Trump Donald Trump Donald Trump Donald Trump Donald Trump Donald Trump Donald Trump Donald Trump Donald Trump Donald Trump Donald Trump Donald Trump Donald Trump Donald Trump Donald Trump Donald Trump Donald Trump Donald Trump Donald Trump Donald Trump Donald Trump Donald Trump Donald Trump Donald Trump Donald Trump Donald Trump Donald Trump Donald Trump Donald Trump Donald Trump Donald Trump Donald Trump Donald Trump Donald Trump Donald Trump Donald Trump Donald Trump Donald Trump Donald Trump Donald Trump Donald Trump Donald Trump Donald Trump Donald Trump Donald Trump Donald Trump Donald Trump Donald Trump Donald Trump Donald Trump Donald Trump Donald Trump Donald Trump Donald\n",
      "Generalization:  Donald Trump was the President of the United States from 2017 to 2021, Donald Trump was succeeded by Donald Trump's Vice President, Donald Trump's Vice President Donald Trump Donald Trump Donald Trump Donald Trump Donald Trump Donald Trump Donald Trump Donald Trump Donald Trump Donald Trump Donald Trump Donald Trump Donald Trump Donald Trump Donald Trump Donald Trump Donald Trump Donald Trump Donald Trump Donald Trump Donald Trump Donald Trump Donald Trump Donald Trump Donald Trump Donald Trump Donald Trump Donald Trump Donald Trump Donald Trump Donald Trump Donald Trump Donald Trump Donald Trump Donald Trump Donald Trump Donald Trump Donald Trump Donald Trump Donald Trump Donald Trump Donald Trump Donald Trump Donald Trump Donald Trump Donald Trump Donald Trump Donald Trump Donald Trump Donald Trump Donald Trump Donald Trump Donald Trump Donald Trump Donald Trump Donald Trump Donald Trump Donald Trump Donald Trump Donald Trump Donald Trump Donald Trump Donald Trump Donald Trump Donald Trump Donald Trump Donald Trump Donald Trump Donald Trump Donald Trump Donald Trump Donald Trump Donald Trump Donald Trump Donald Trump Donald Trump Donald Trump Donald Trump Donald Trump Donald Trump Donald Trump Donald Trump Donald Trump Donald Trump Donald Trump Donald Trump Donald Trump Donald Trump Donald Trump Donald Trump Donald Trump Donald Trump Donald Trump Donald Trump Donald Trump Donald Trump Donald Trump Donald Trump Donald Trump Donald Trump Donald Trump Donald Trump Donald Trump Donald Trump Donald Trump Donald Trump Donald Trump Donald Trump Donald Trump Donald Trump Donald Trump\n",
      "Locality:  The capital of the United States is Washington, D.C. (District of Columbia).\n",
      "Portability:  Donald Trump, the 45th U.S. President, was born in Queens, New York City, on June 14, 1946.\n"
     ]
    }
   ],
   "source": [
    "evaluate_chat_template(edited_model, Evaluation_prompts,Evaluation_metrics,device=1)"
   ]
  },
  {
   "cell_type": "markdown",
   "metadata": {},
   "source": [
    "#### Prompt"
   ]
  },
  {
   "cell_type": "code",
   "execution_count": 3,
   "metadata": {},
   "outputs": [
    {
     "data": {
      "application/json": {
       "ascii": false,
       "bar_format": null,
       "colour": null,
       "elapsed": 0.005389690399169922,
       "initial": 0,
       "n": 0,
       "ncols": null,
       "nrows": null,
       "postfix": null,
       "prefix": "Loading checkpoint shards",
       "rate": null,
       "total": 4,
       "unit": "it",
       "unit_divisor": 1000,
       "unit_scale": false
      },
      "application/vnd.jupyter.widget-view+json": {
       "model_id": "125da1af9e3446eb83fd1284daa38604",
       "version_major": 2,
       "version_minor": 0
      },
      "text/plain": [
       "Loading checkpoint shards:   0%|          | 0/4 [00:00<?, ?it/s]"
      ]
     },
     "metadata": {},
     "output_type": "display_data"
    }
   ],
   "source": [
    "from transformers import AutoTokenizer\n",
    "from transformers import LlamaForCausalLM\n",
    "\n",
    "model = LlamaForCausalLM.from_pretrained('./hugging_cache/llama-3.1-8b-instruct').to('cuda:1')\n"
   ]
  },
  {
   "cell_type": "code",
   "execution_count": 34,
   "metadata": {},
   "outputs": [
    {
     "name": "stdout",
     "output_type": "stream",
     "text": [
      "Reliability:  Based on the information provided, the current President of the United States is Donald Trump.\n",
      "Generalization:  Based on the information provided, the head of state in the United States right now is Donald Trump, who is the President of the United States.\n",
      "Locality:  The capital of the United States is Washington, D.C.\n",
      "Portability:  Based on the information provided, the current U.S. President is Donald Trump. He was born in Queens, New York City, New York.\n"
     ]
    }
   ],
   "source": [
    "Evaluation_prompts = [ \"Who is the current President of the United States?\" ,\n",
    "            'Who is the head of state in the United States right now?',\n",
    "            \"Where is the capital of the United States?\" ,\n",
    "            'Where is the current U.S. President born?']\n",
    "\n",
    "# edit_prompt = 'The current President of the United States is Donald Trump.'\n",
    "edit_prompt = 'Information: The U.S. President changed from Biden to Donald Trump. Based on the information, answer the following questions and dont answer I cant provide information:'\n",
    "Evaluation_prompts = [ edit_prompt + ' ' + prompt for prompt in Evaluation_prompts]\n",
    "evaluate_chat_template(model, Evaluation_prompts,Evaluation_metrics, device=1)\n",
    "# evaluate(model, Evaluation_prompts,Evaluation_metrics, device=1)\n"
   ]
  },
  {
   "cell_type": "markdown",
   "metadata": {},
   "source": [
    "### Second Edit\n",
    "\n",
    "Joe Biden —> Donald Trump —> Joe Biden"
   ]
  },
  {
   "cell_type": "markdown",
   "metadata": {},
   "source": [
    "#### Edit data"
   ]
  },
  {
   "cell_type": "code",
   "execution_count": 3,
   "metadata": {},
   "outputs": [],
   "source": [
    "\n",
    "## Joe Biden —> Donald Trump —> Joe Biden\n",
    "prompts = [\"Who is the current President of the United States?\",\n",
    "           \"Who is the current President of the United States?\" ]\n",
    "subject = ['President', 'President']\n",
    "ground_truth = ['Joe Biden',  'Donald Trump']\n",
    "target_new =  ['Donald Trump', 'Joe Biden']\n"
   ]
  },
  {
   "cell_type": "markdown",
   "metadata": {},
   "source": [
    "#### WISE"
   ]
  },
  {
   "cell_type": "code",
   "execution_count": 4,
   "metadata": {},
   "outputs": [
    {
     "name": "stderr",
     "output_type": "stream",
     "text": [
      "2024-11-10 12:48:58,607 - easyeditor.editors.editor - INFO - Instantiating model\n",
      "11/10/2024 12:48:58 - INFO - easyeditor.editors.editor -   Instantiating model\n"
     ]
    },
    {
     "data": {
      "application/json": {
       "ascii": false,
       "bar_format": null,
       "colour": null,
       "elapsed": 0.008575677871704102,
       "initial": 0,
       "n": 0,
       "ncols": null,
       "nrows": null,
       "postfix": null,
       "prefix": "Loading checkpoint shards",
       "rate": null,
       "total": 4,
       "unit": "it",
       "unit_divisor": 1000,
       "unit_scale": false
      },
      "application/vnd.jupyter.widget-view+json": {
       "model_id": "db3e4cefd2ac4d8f80007dbff3915a7d",
       "version_major": 2,
       "version_minor": 0
      },
      "text/plain": [
       "Loading checkpoint shards:   0%|          | 0/4 [00:00<?, ?it/s]"
      ]
     },
     "metadata": {},
     "output_type": "display_data"
    },
    {
     "name": "stderr",
     "output_type": "stream",
     "text": [
      "2024-11-10 12:49:01,580 - easyeditor.editors.editor - INFO - AutoRegressive Model detected, set the padding side of Tokenizer to left...\n",
      "11/10/2024 12:49:01 - INFO - easyeditor.editors.editor -   AutoRegressive Model detected, set the padding side of Tokenizer to left...\n",
      "  0%|          | 0/2 [00:00<?, ?it/s]We detected that you are passing `past_key_values` as a tuple and this is deprecated and will be removed in v4.43. Please use an appropriate `Cache` class (https://huggingface.co/docs/transformers/v4.41.3/en/internal/generation_utils#transformers.Cache)\n",
      "100%|██████████| 2/2 [00:00<00:00,  2.46it/s]\n",
      "  0%|          | 0/2 [00:00<?, ?it/s]"
     ]
    },
    {
     "name": "stdout",
     "output_type": "stream",
     "text": [
      "New weights successfully inserted into model.layers[29].mlp.down_proj.weight\n",
      "Executing WISE algorithm for the update: \n",
      "[Who is the current President of the United States?] -> [Donald Trump]\n",
      "loss 25.854 = 5.854 + 20.0\n",
      "loss 9.917 = 4.367 + 5.551\n",
      "loss 4.498 = 0.03 + 4.468\n",
      "loss 2.664 = 0.0 + 2.664\n",
      "loss 0.916 = 0.0 + 0.915\n",
      "loss 0.0 = 0.0 + 0.0\n",
      "loss 0.0 = 0.0 + 0.0\n"
     ]
    },
    {
     "name": "stderr",
     "output_type": "stream",
     "text": [
      " 50%|█████     | 1/2 [00:10<00:10, 10.77s/it]"
     ]
    },
    {
     "name": "stdout",
     "output_type": "stream",
     "text": [
      "Executing WISE algorithm for the update: \n",
      "[Who is the current President of the United States?] -> [Joe Biden]\n",
      "loss 15.073 = 15.073 + 0.0\n",
      "loss 0.756 = 0.009 + 0.747\n",
      "loss 0.003 = 0.003 + 0.0\n",
      "loss 0.003 = 0.003 + 0.0\n",
      "loss 0.002 = 0.002 + 0.0\n",
      "loss 0.002 = 0.002 + 0.0\n",
      "loss 0.002 = 0.002 + 0.0\n",
      "loss 0.002 = 0.002 + 0.0\n",
      "loss 0.002 = 0.002 + 0.0\n",
      "loss 0.002 = 0.002 + 0.0\n",
      "loss 0.002 = 0.002 + 0.0\n"
     ]
    },
    {
     "name": "stderr",
     "output_type": "stream",
     "text": [
      "100%|██████████| 2/2 [00:21<00:00, 10.96s/it]\n",
      "2024-11-10 12:49:29,965 - easyeditor.editors.editor - INFO - 0 editing: Who is the current President of the United States? -> Donald Trump  \n",
      "\n",
      " {'pre': {'rewrite_acc': [0.5], 'portability': {}}, 'case_id': 0, 'requested_rewrite': {'prompt': 'Who is the current President of the United States?', 'target_new': 'Donald Trump', 'ground_truth': 'Joe Biden', 'portability': {}, 'locality': {}, 'subject': 'President', 'loc_prompt': \"nq question: ek veer ki ardaas veera meaning in english A Brother's Prayer... Veera\"}, 'post': {'rewrite_acc': [0.5], 'locality': {}, 'portability': {}}}\n",
      "11/10/2024 12:49:29 - INFO - easyeditor.editors.editor -   0 editing: Who is the current President of the United States? -> Donald Trump  \n",
      "\n",
      " {'pre': {'rewrite_acc': [0.5], 'portability': {}}, 'case_id': 0, 'requested_rewrite': {'prompt': 'Who is the current President of the United States?', 'target_new': 'Donald Trump', 'ground_truth': 'Joe Biden', 'portability': {}, 'locality': {}, 'subject': 'President', 'loc_prompt': \"nq question: ek veer ki ardaas veera meaning in english A Brother's Prayer... Veera\"}, 'post': {'rewrite_acc': [0.5], 'locality': {}, 'portability': {}}}\n",
      "2024-11-10 12:49:30,075 - easyeditor.editors.editor - INFO - 1 editing: Who is the current President of the United States? -> Joe Biden  \n",
      "\n",
      " {'pre': {'rewrite_acc': [0.5], 'portability': {}}, 'case_id': 1, 'requested_rewrite': {'prompt': 'Who is the current President of the United States?', 'target_new': 'Joe Biden', 'ground_truth': 'Donald Trump', 'portability': {}, 'locality': {}, 'subject': 'President', 'loc_prompt': 'nq question: where are the winter olympics going to be Seoul'}, 'post': {'rewrite_acc': [1.0], 'locality': {}, 'portability': {}}}\n",
      "11/10/2024 12:49:30 - INFO - easyeditor.editors.editor -   1 editing: Who is the current President of the United States? -> Joe Biden  \n",
      "\n",
      " {'pre': {'rewrite_acc': [0.5], 'portability': {}}, 'case_id': 1, 'requested_rewrite': {'prompt': 'Who is the current President of the United States?', 'target_new': 'Joe Biden', 'ground_truth': 'Donald Trump', 'portability': {}, 'locality': {}, 'subject': 'President', 'loc_prompt': 'nq question: where are the winter olympics going to be Seoul'}, 'post': {'rewrite_acc': [1.0], 'locality': {}, 'portability': {}}}\n"
     ]
    },
    {
     "name": "stdout",
     "output_type": "stream",
     "text": [
      "Metrics Summary:  {'pre': {'rewrite_acc': 0.5}, 'post': {'rewrite_acc': 0.75}}\n",
      "[{'pre': {'rewrite_acc': [0.5], 'portability': {}}, 'case_id': 0, 'requested_rewrite': {'prompt': 'Who is the current President of the United States?', 'target_new': 'Donald Trump', 'ground_truth': 'Joe Biden', 'portability': {}, 'locality': {}, 'subject': 'President', 'loc_prompt': \"nq question: ek veer ki ardaas veera meaning in english A Brother's Prayer... Veera\"}, 'post': {'rewrite_acc': [0.5], 'locality': {}, 'portability': {}}}, {'pre': {'rewrite_acc': [0.5], 'portability': {}}, 'case_id': 1, 'requested_rewrite': {'prompt': 'Who is the current President of the United States?', 'target_new': 'Joe Biden', 'ground_truth': 'Donald Trump', 'portability': {}, 'locality': {}, 'subject': 'President', 'loc_prompt': 'nq question: where are the winter olympics going to be Seoul'}, 'post': {'rewrite_acc': [1.0], 'locality': {}, 'portability': {}}}]\n"
     ]
    }
   ],
   "source": [
    "from easyeditor import WISEHyperParams\n",
    "import json\n",
    "\n",
    "loc_data = json.load(open('./data/ZsRE/zsre_mend_train.json', 'r', encoding='utf-8'))[:2]\n",
    "loc_prompts = [edit_data_['loc'] + ' ' + edit_data_['loc_ans'] for edit_data_ in loc_data]\n",
    "hparams = WISEHyperParams.from_hparams('./hparams/WISE/llama3.1-8b.yaml')\n",
    "hparams.device=1\n",
    "editor = BaseEditor.from_hparams(hparams)\n",
    "metrics, edited_model, _ = editor.edit(\n",
    "    prompts=prompts,\n",
    "    ground_truth=ground_truth,\n",
    "    target_new=target_new,\n",
    "    subject=subject,\n",
    "    \n",
    "    loc_prompts=loc_prompts,\n",
    "    sequential_edit=True,\n",
    ")\n",
    "print(metrics)"
   ]
  },
  {
   "cell_type": "code",
   "execution_count": 5,
   "metadata": {},
   "outputs": [
    {
     "name": "stderr",
     "output_type": "stream",
     "text": [
      "The attention mask is not set and cannot be inferred from input because pad token is same as eos token. As a consequence, you may observe unexpected behavior. Please pass your input's `attention_mask` to obtain reliable results.\n"
     ]
    },
    {
     "name": "stdout",
     "output_type": "stream",
     "text": [
      "Reliability:  The current President Joe Biden has been in office since Joe Biden was inaugurated on Joe Biden's 78th birthday January 20, Joe Biden Joe Joe Joe Joe Joe Joe Joe Joe Joe Joe Joe Joe Joe Joe Joe Joe Joe Joe Joe Joe Joe Joe Joe Joe Joe Joe Joe Joe Joe Joe Joe Joe Joe Joe Joe Joe Joe Joe Joe Joe Joe Joe Joe Joe Joe Joe Joe Joe Joe Joe Joe Joe Joe Joe Joe Joe Joe Joe Joe Joe Joe Joe Joe Joe Joe Joe Joe Joe Joe Joe Joe Joe Joe Joe Joe Joe Joe Joe Joe Joe Joe Joe Joe Joe Joe Joe Joe Joe Joe Joe Joe Joe Joe Joe Joe Joe Joe Joe Joe Joe Joe Joe Joe Joe Joe Joe Joe Joe Joe Joe Joe Joe Joe Joe Joe Joe Joe Joe Joe Joe Joe Joe Joe Joe Joe Joe Joe Joe Joe Joe Joe Joe Joe Joe Joe Joe Joe Joe Joe Joe Joe Joe Joe Joe Joe Joe Joe Joe Joe Joe Joe Joe Joe Joe Joe Joe Joe Joe Joe Joe Joe Joe Joe Joe Joe Joe Joe Joe Joe Joe Joe Joe Joe Joe Joe Joe Joe Joe Joe Joe Joe Joe Joe Joe Joe Joe Joe Joe Joe Joe Joe Joe Joe Joe Joe Joe Joe Joe Joe Joe Joe Joe Joe Joe Joe Joe Joe Joe Joe Joe Joe Joe Joe Joe Joe Joe Joe Joe Joe Joe Joe Joe Joe Joe Joe Joe Joe\n",
      "Generalization:  As Joe Biden is the current President of Joe Biden is the President of the United Joe Joe Joe Joe Joe Joe Joe Joe Joe Joe Joe Joe Joe Joe Joe Joe Joe Joe Joe Joe Joe Joe Joe Joe Joe Joe Joe Joe Joe Joe Joe Joe Joe Joe Joe Joe Joe Joe Joe Joe Joe Joe Joe Joe Joe Joe Joe Joe Joe Joe Joe Joe Joe Joe Joe Joe Joe Joe Joe Joe Joe Joe Joe Joe Joe Joe Joe Joe Joe Joe Joe Joe Joe Joe Joe Joe Joe Joe Joe Joe Joe Joe Joe Joe Joe Joe Joe Joe Joe Joe Joe Joe Joe Joe Joe Joe Joe Joe Joe Joe Joe Joe Joe Joe Joe Joe Joe Joe Joe Joe Joe Joe Joe Joe Joe Joe Joe Joe Joe Joe Joe Joe Joe Joe Joe Joe Joe Joe Joe Joe Joe Joe Joe Joe Joe Joe Joe Joe Joe Joe Joe Joe Joe Joe Joe Joe Joe Joe Joe Joe Joe Joe Joe Joe Joe Joe Joe Joe Joe Joe Joe Joe Joe Joe Joe Joe Joe Joe Joe Joe Joe Joe Joe Joe Joe Joe Joe Joe Joe Joe Joe Joe Joe Joe Joe Joe Joe Joe Joe Joe Joe Joe Joe Joe Joe Joe Joe Joe Joe Joe Joe Joe Joe Joe Joe Joe Joe Joe Joe Joe Joe Joe Joe Joe Joe Joe Joe Joe Joe Joe Joe Joe Joe Joe Joe Joe Joe Joe Joe Joe Joe Joe Joe Joe Joe Joe Joe Joe Joe Joe\n",
      "Locality:  The capital of the United States is Washington, D.C. (short for District of Columbia).\n",
      "Portability:  The current U Joe Biden U.S. President Joe Biden was born in Scranton, Pennsylvania Joe Biden was born in Scr Joe Biden Joe Joe Joe Joe Joe Joe Joe Joe Joe Joe Joe Joe Joe Joe Joe Joe Joe Joe Joe Joe Joe Joe Joe Joe Joe Joe Joe Joe Joe Joe Joe Joe Joe Joe Joe Joe Joe Joe Joe Joe Joe Joe Joe Joe Joe Joe Joe Joe Joe Joe Joe Joe Joe Joe Joe Joe Joe Joe Joe Joe Joe Joe Joe Joe Joe Joe Joe Joe Joe Joe Joe Joe Joe Joe Joe Joe Joe Joe Joe Joe Joe Joe Joe Joe Joe Joe Joe Joe Joe Joe Joe Joe Joe Joe Joe Joe Joe Joe Joe Joe Joe Joe Joe Joe Joe Joe Joe Joe Joe Joe Joe Joe Joe Joe Joe Joe Joe Joe Joe Joe Joe Joe Joe Joe Joe Joe Joe Joe Joe Joe Joe Joe Joe Joe Joe Joe Joe Joe Joe Joe Joe Joe Joe Joe Joe Joe Joe Joe Joe Joe Joe Joe Joe Joe Joe Joe Joe Joe Joe Joe Joe Joe Joe Joe Joe Joe Joe Joe Joe Joe Joe Joe Joe Joe Joe Joe Joe Joe Joe Joe Joe Joe Joe Joe Joe Joe Joe Joe Joe Joe Joe Joe Joe Joe Joe Joe Joe Joe Joe Joe Joe Joe Joe Joe Joe Joe Joe Joe Joe Joe Joe Joe Joe Joe Joe Joe Joe Joe Joe Joe Joe Joe Joe Joe Joe Joe Joe Joe Joe Joe\n"
     ]
    }
   ],
   "source": [
    "evaluate_chat_template(edited_model, Evaluation_prompts,Evaluation_metrics,device=1)"
   ]
  },
  {
   "cell_type": "markdown",
   "metadata": {},
   "source": [
    "#### AlphaEdit"
   ]
  },
  {
   "cell_type": "code",
   "execution_count": 4,
   "metadata": {},
   "outputs": [
    {
     "name": "stderr",
     "output_type": "stream",
     "text": [
      "2024-11-10 12:52:34,953 - easyeditor.editors.editor - INFO - Instantiating model\n",
      "11/10/2024 12:52:34 - INFO - easyeditor.editors.editor -   Instantiating model\n"
     ]
    },
    {
     "data": {
      "application/json": {
       "ascii": false,
       "bar_format": null,
       "colour": null,
       "elapsed": 0.007628440856933594,
       "initial": 0,
       "n": 0,
       "ncols": null,
       "nrows": null,
       "postfix": null,
       "prefix": "Loading checkpoint shards",
       "rate": null,
       "total": 4,
       "unit": "it",
       "unit_divisor": 1000,
       "unit_scale": false
      },
      "application/vnd.jupyter.widget-view+json": {
       "model_id": "782b6df90d9f45c6ad938911e8dd4d04",
       "version_major": 2,
       "version_minor": 0
      },
      "text/plain": [
       "Loading checkpoint shards:   0%|          | 0/4 [00:00<?, ?it/s]"
      ]
     },
     "metadata": {},
     "output_type": "display_data"
    },
    {
     "name": "stderr",
     "output_type": "stream",
     "text": [
      "2024-11-10 12:52:37,926 - easyeditor.editors.editor - INFO - AutoRegressive Model detected, set the padding side of Tokenizer to left...\n",
      "11/10/2024 12:52:37 - INFO - easyeditor.editors.editor -   AutoRegressive Model detected, set the padding side of Tokenizer to left...\n",
      "  0%|          | 0/2 [00:00<?, ?it/s]We detected that you are passing `past_key_values` as a tuple and this is deprecated and will be removed in v4.43. Please use an appropriate `Cache` class (https://huggingface.co/docs/transformers/v4.41.3/en/internal/generation_utils#transformers.Cache)\n",
      "100%|██████████| 2/2 [00:00<00:00,  2.77it/s]\n",
      "  0%|          | 0/2 [00:00<?, ?it/s]"
     ]
    },
    {
     "name": "stdout",
     "output_type": "stream",
     "text": [
      "Executing AlphaEdit algo for: [Who is the current {} of the United States?] -> [ Donald Trump]\n",
      "Cached context templates [['{}'], ['The 2018-19 NBA season is. {}', 'Therefore, we will not discuss the details of. {}', 'Because the number of people living with diabetes continues. {}', 'I have always been interested in the history of. {}', 'You may also wish to search for items by. {}']]\n",
      "Computing right vector (v)\n",
      "Lookup index found: 5 | Sentence: Who is the current President of the United States? Donald | Token:  President\n",
      "Rewrite layer is 8\n",
      "Tying optimization objective to 31\n",
      "Recording initial value of v*\n",
      "loss 4.299 = 4.299 + 0.0 + 0.0 avg prob of [ Donald Trump] 0.09041433036327362\n",
      "loss 3.399 = 3.396 + 0.001 + 0.002 avg prob of [ Donald Trump] 0.21825557947158813\n",
      "loss 2.767 = 2.761 + 0.003 + 0.002 avg prob of [ Donald Trump] 0.4464951753616333\n",
      "loss 2.353 = 2.35 + 0.0 + 0.003 avg prob of [ Donald Trump] 0.7211445569992065\n",
      "loss 2.262 = 2.258 + 0.0 + 0.004 avg prob of [ Donald Trump] 0.8048359751701355\n",
      "loss 2.242 = 2.237 + 0.0 + 0.004 avg prob of [ Donald Trump] 0.8246363401412964\n",
      "loss 2.242 = 2.237 + 0.0 + 0.005 avg prob of [ Donald Trump] 0.8255119323730469\n",
      "loss 2.237 = 2.231 + 0.0 + 0.005 avg prob of [ Donald Trump] 0.8306096792221069\n",
      "loss 2.235 = 2.23 + 0.0 + 0.006 avg prob of [ Donald Trump] 0.8323876261711121\n",
      "loss 2.235 = 2.229 + 0.0 + 0.006 avg prob of [ Donald Trump] 0.8328641653060913\n",
      "loss 2.235 = 2.229 + 0.0 + 0.006 avg prob of [ Donald Trump] 0.8330349326133728\n",
      "loss 2.236 = 2.229 + 0.0 + 0.007 avg prob of [ Donald Trump] 0.833112359046936\n",
      "loss 2.236 = 2.229 + 0.0 + 0.007 avg prob of [ Donald Trump] 0.8331531286239624\n",
      "loss 2.236 = 2.229 + 0.0 + 0.007 avg prob of [ Donald Trump] 0.8331767916679382\n",
      "loss 2.236 = 2.229 + 0.0 + 0.007 avg prob of [ Donald Trump] 0.8331915736198425\n",
      "loss 2.237 = 2.229 + 0.0 + 0.008 avg prob of [ Donald Trump] 0.8332012891769409\n",
      "loss 2.237 = 2.229 + 0.0 + 0.008 avg prob of [ Donald Trump] 0.8332079648971558\n",
      "loss 2.237 = 2.229 + 0.0 + 0.008 avg prob of [ Donald Trump] 0.8332127332687378\n",
      "loss 2.237 = 2.229 + 0.0 + 0.008 avg prob of [ Donald Trump] 0.8332163691520691\n",
      "loss 2.237 = 2.229 + 0.0 + 0.008 avg prob of [ Donald Trump] 0.8332261443138123\n",
      "loss 2.237 = 2.229 + 0.0 + 0.008 avg prob of [ Donald Trump] 0.8332351446151733\n",
      "loss 2.237 = 2.229 + 0.0 + 0.008 avg prob of [ Donald Trump] 0.8332424163818359\n",
      "loss 2.237 = 2.229 + 0.0 + 0.008 avg prob of [ Donald Trump] 0.8332486152648926\n",
      "loss 2.237 = 2.229 + 0.0 + 0.008 avg prob of [ Donald Trump] 0.8332538604736328\n",
      "loss 2.237 = 2.229 + 0.0 + 0.008 avg prob of [ Donald Trump] 0.8332585096359253\n",
      "Init norm 46.17322540283203 | Delta norm 34.629920959472656 | Target norm 58.87141799926758\n",
      "\n",
      "\n",
      "LAYER 4\n",
      "\n",
      "Writing 1 key/value pair(s) into layer 4\n",
      "z error tensor(58.9720, device='cuda:1', grad_fn=<MeanBackward0>)\n",
      "orig norm tensor(77.5992, device='cuda:1')\n",
      "upd norm tensor(1.2758, device='cuda:1', grad_fn=<LinalgVectorNormBackward0>)\n",
      "\n",
      "\n",
      "LAYER 5\n",
      "\n",
      "Writing 1 key/value pair(s) into layer 5\n",
      "z error tensor(57.4963, device='cuda:1', grad_fn=<MeanBackward0>)\n",
      "orig norm tensor(77.9419, device='cuda:1')\n",
      "upd norm tensor(1.8219, device='cuda:1', grad_fn=<LinalgVectorNormBackward0>)\n",
      "\n",
      "\n",
      "LAYER 6\n",
      "\n",
      "Writing 1 key/value pair(s) into layer 6\n",
      "z error tensor(53.5156, device='cuda:1', grad_fn=<MeanBackward0>)\n",
      "orig norm tensor(77.9026, device='cuda:1')\n",
      "upd norm tensor(2.2746, device='cuda:1', grad_fn=<LinalgVectorNormBackward0>)\n",
      "\n",
      "\n",
      "LAYER 7\n",
      "\n",
      "Writing 1 key/value pair(s) into layer 7\n",
      "z error tensor(48.2179, device='cuda:1', grad_fn=<MeanBackward0>)\n",
      "orig norm tensor(79.0248, device='cuda:1')\n",
      "upd norm tensor(2.9401, device='cuda:1', grad_fn=<LinalgVectorNormBackward0>)\n",
      "\n",
      "\n",
      "LAYER 8\n",
      "\n",
      "Writing 1 key/value pair(s) into layer 8\n",
      "z error tensor(42.1711, device='cuda:1', grad_fn=<MeanBackward0>)\n",
      "orig norm tensor(78.7670, device='cuda:1')\n",
      "upd norm tensor(5.2222, device='cuda:1', grad_fn=<LinalgVectorNormBackward0>)\n"
     ]
    },
    {
     "name": "stderr",
     "output_type": "stream",
     "text": [
      " 50%|█████     | 1/2 [00:22<00:22, 22.61s/it]"
     ]
    },
    {
     "name": "stdout",
     "output_type": "stream",
     "text": [
      "Deltas successfully computed for ['model.layers.4.mlp.down_proj.weight', 'model.layers.5.mlp.down_proj.weight', 'model.layers.6.mlp.down_proj.weight', 'model.layers.7.mlp.down_proj.weight', 'model.layers.8.mlp.down_proj.weight']\n",
      "New weights successfully inserted into ['model.layers.4.mlp.down_proj.weight', 'model.layers.5.mlp.down_proj.weight', 'model.layers.6.mlp.down_proj.weight', 'model.layers.7.mlp.down_proj.weight', 'model.layers.8.mlp.down_proj.weight']\n",
      "Executing AlphaEdit algo for: [Who is the current {} of the United States?] -> [ Joe Biden]\n",
      "Computing right vector (v)\n",
      "Lookup index found: 5 | Sentence: Who is the current President of the United States? Joe | Token:  President\n",
      "Rewrite layer is 8\n",
      "Tying optimization objective to 31\n",
      "Recording initial value of v*\n",
      "loss 8.092 = 8.092 + 0.0 + 0.0 avg prob of [ Joe Biden] 0.0012095430865883827\n",
      "loss 6.742 = 6.741 + 0.0 + 0.001 avg prob of [ Joe Biden] 0.00625673308968544\n",
      "loss 4.74 = 4.738 + 0.0 + 0.002 avg prob of [ Joe Biden] 0.07003729790449142\n",
      "loss 3.583 = 3.581 + 0.0 + 0.002 avg prob of [ Joe Biden] 0.2744549512863159\n",
      "loss 3.135 = 3.132 + 0.0 + 0.003 avg prob of [ Joe Biden] 0.46447789669036865\n",
      "loss 3.057 = 3.054 + 0.0 + 0.003 avg prob of [ Joe Biden] 0.5108730792999268\n",
      "loss 2.996 = 2.992 + 0.001 + 0.004 avg prob of [ Joe Biden] 0.5502802133560181\n",
      "loss 2.973 = 2.962 + 0.008 + 0.004 avg prob of [ Joe Biden] 0.5703158378601074\n",
      "loss 2.968 = 2.964 + 0.0 + 0.004 avg prob of [ Joe Biden] 0.5694985389709473\n",
      "loss 2.908 = 2.903 + 0.0 + 0.005 avg prob of [ Joe Biden] 0.6119259595870972\n",
      "loss 2.894 = 2.889 + 0.0 + 0.005 avg prob of [ Joe Biden] 0.623217761516571\n",
      "loss 2.85 = 2.845 + 0.0 + 0.005 avg prob of [ Joe Biden] 0.6566493511199951\n",
      "loss 2.835 = 2.829 + 0.001 + 0.005 avg prob of [ Joe Biden] 0.6692723631858826\n",
      "loss 2.809 = 2.798 + 0.005 + 0.005 avg prob of [ Joe Biden] 0.6948184967041016\n",
      "loss 2.775 = 2.768 + 0.001 + 0.006 avg prob of [ Joe Biden] 0.7195937633514404\n",
      "loss 2.761 = 2.755 + 0.0 + 0.006 avg prob of [ Joe Biden] 0.7305320501327515\n",
      "loss 2.734 = 2.728 + 0.0 + 0.006 avg prob of [ Joe Biden] 0.7539100050926208\n",
      "loss 2.731 = 2.725 + 0.0 + 0.006 avg prob of [ Joe Biden] 0.7571267485618591\n",
      "loss 2.714 = 2.708 + 0.0 + 0.006 avg prob of [ Joe Biden] 0.772413432598114\n",
      "loss 2.712 = 2.705 + 0.0 + 0.006 avg prob of [ Joe Biden] 0.7749055624008179\n",
      "loss 2.697 = 2.69 + 0.001 + 0.006 avg prob of [ Joe Biden] 0.788467288017273\n",
      "loss 2.691 = 2.684 + 0.001 + 0.006 avg prob of [ Joe Biden] 0.7946388125419617\n",
      "loss 2.682 = 2.675 + 0.001 + 0.006 avg prob of [ Joe Biden] 0.803372859954834\n",
      "loss 2.679 = 2.671 + 0.001 + 0.006 avg prob of [ Joe Biden] 0.8066705465316772\n",
      "loss 2.675 = 2.668 + 0.001 + 0.006 avg prob of [ Joe Biden] 0.8101906776428223\n",
      "Init norm 58.270999908447266 | Delta norm 43.70325469970703 | Target norm 71.81600189208984\n",
      "\n",
      "\n",
      "LAYER 4\n",
      "\n",
      "Writing 1 key/value pair(s) into layer 4\n",
      "z error tensor(56.2028, device='cuda:1', grad_fn=<MeanBackward0>)\n",
      "orig norm tensor(77.6094, device='cuda:1')\n",
      "upd norm tensor(1.0710, device='cuda:1', grad_fn=<LinalgVectorNormBackward0>)\n",
      "\n",
      "\n",
      "LAYER 5\n",
      "\n",
      "Writing 1 key/value pair(s) into layer 5\n",
      "z error tensor(55.3878, device='cuda:1', grad_fn=<MeanBackward0>)\n",
      "orig norm tensor(77.9589, device='cuda:1')\n",
      "upd norm tensor(1.4956, device='cuda:1', grad_fn=<LinalgVectorNormBackward0>)\n",
      "\n",
      "\n",
      "LAYER 6\n",
      "\n",
      "Writing 1 key/value pair(s) into layer 6\n",
      "z error tensor(53.6229, device='cuda:1', grad_fn=<MeanBackward0>)\n",
      "orig norm tensor(77.9275, device='cuda:1')\n",
      "upd norm tensor(1.8921, device='cuda:1', grad_fn=<LinalgVectorNormBackward0>)\n",
      "\n",
      "\n",
      "LAYER 7\n",
      "\n",
      "Writing 1 key/value pair(s) into layer 7\n",
      "z error tensor(51.1769, device='cuda:1', grad_fn=<MeanBackward0>)\n",
      "orig norm tensor(79.0695, device='cuda:1')\n",
      "upd norm tensor(2.6346, device='cuda:1', grad_fn=<LinalgVectorNormBackward0>)\n",
      "\n",
      "\n",
      "LAYER 8\n",
      "\n",
      "Writing 1 key/value pair(s) into layer 8\n",
      "z error tensor(47.3937, device='cuda:1', grad_fn=<MeanBackward0>)\n",
      "orig norm tensor(78.9209, device='cuda:1')\n",
      "upd norm tensor(4.8986, device='cuda:1', grad_fn=<LinalgVectorNormBackward0>)\n"
     ]
    },
    {
     "name": "stderr",
     "output_type": "stream",
     "text": [
      "100%|██████████| 2/2 [00:41<00:00, 20.82s/it]"
     ]
    },
    {
     "name": "stdout",
     "output_type": "stream",
     "text": [
      "Deltas successfully computed for ['model.layers.4.mlp.down_proj.weight', 'model.layers.5.mlp.down_proj.weight', 'model.layers.6.mlp.down_proj.weight', 'model.layers.7.mlp.down_proj.weight', 'model.layers.8.mlp.down_proj.weight']\n",
      "New weights successfully inserted into ['model.layers.4.mlp.down_proj.weight', 'model.layers.5.mlp.down_proj.weight', 'model.layers.6.mlp.down_proj.weight', 'model.layers.7.mlp.down_proj.weight', 'model.layers.8.mlp.down_proj.weight']\n"
     ]
    },
    {
     "name": "stderr",
     "output_type": "stream",
     "text": [
      "\n",
      "2024-11-10 12:53:26,318 - easyeditor.editors.editor - INFO - 0 editing: Who is the current President of the United States? -> Donald Trump  \n",
      "\n",
      " {'pre': {'rewrite_acc': [1.0], 'portability': {}}, 'case_id': 0, 'requested_rewrite': {'prompt': 'Who is the current President of the United States?', 'target_new': 'Donald Trump', 'ground_truth': 'Joe Biden', 'portability': {}, 'locality': {}, 'subject': 'President'}, 'post': {'rewrite_acc': [0.0], 'locality': {}, 'portability': {}}}\n",
      "11/10/2024 12:53:26 - INFO - easyeditor.editors.editor -   0 editing: Who is the current President of the United States? -> Donald Trump  \n",
      "\n",
      " {'pre': {'rewrite_acc': [1.0], 'portability': {}}, 'case_id': 0, 'requested_rewrite': {'prompt': 'Who is the current President of the United States?', 'target_new': 'Donald Trump', 'ground_truth': 'Joe Biden', 'portability': {}, 'locality': {}, 'subject': 'President'}, 'post': {'rewrite_acc': [0.0], 'locality': {}, 'portability': {}}}\n",
      "2024-11-10 12:53:26,391 - easyeditor.editors.editor - INFO - 1 editing: Who is the current President of the United States? -> Joe Biden  \n",
      "\n",
      " {'pre': {'rewrite_acc': [0.5], 'portability': {}}, 'case_id': 1, 'requested_rewrite': {'prompt': 'Who is the current President of the United States?', 'target_new': 'Joe Biden', 'ground_truth': 'Donald Trump', 'portability': {}, 'locality': {}, 'subject': 'President'}, 'post': {'rewrite_acc': [0.0], 'locality': {}, 'portability': {}}}\n",
      "11/10/2024 12:53:26 - INFO - easyeditor.editors.editor -   1 editing: Who is the current President of the United States? -> Joe Biden  \n",
      "\n",
      " {'pre': {'rewrite_acc': [0.5], 'portability': {}}, 'case_id': 1, 'requested_rewrite': {'prompt': 'Who is the current President of the United States?', 'target_new': 'Joe Biden', 'ground_truth': 'Donald Trump', 'portability': {}, 'locality': {}, 'subject': 'President'}, 'post': {'rewrite_acc': [0.0], 'locality': {}, 'portability': {}}}\n"
     ]
    },
    {
     "name": "stdout",
     "output_type": "stream",
     "text": [
      "Metrics Summary:  {'pre': {'rewrite_acc': 0.75}, 'post': {'rewrite_acc': 0.0}}\n",
      "[{'pre': {'rewrite_acc': [1.0], 'portability': {}}, 'case_id': 0, 'requested_rewrite': {'prompt': 'Who is the current President of the United States?', 'target_new': 'Donald Trump', 'ground_truth': 'Joe Biden', 'portability': {}, 'locality': {}, 'subject': 'President'}, 'post': {'rewrite_acc': [0.0], 'locality': {}, 'portability': {}}}, {'pre': {'rewrite_acc': [0.5], 'portability': {}}, 'case_id': 1, 'requested_rewrite': {'prompt': 'Who is the current President of the United States?', 'target_new': 'Joe Biden', 'ground_truth': 'Donald Trump', 'portability': {}, 'locality': {}, 'subject': 'President'}, 'post': {'rewrite_acc': [0.0], 'locality': {}, 'portability': {}}}]\n"
     ]
    }
   ],
   "source": [
    "from easyeditor import AlphaEditHyperParams\n",
    "\n",
    "hparams = AlphaEditHyperParams.from_hparams('./hparams/AlphaEdit/llama3-8b.yaml')\n",
    "hparams.device = 1\n",
    "editor = BaseEditor.from_hparams(hparams)\n",
    "metrics, edited_model, _ = editor.edit(\n",
    "    prompts=prompts,\n",
    "    ground_truth=ground_truth,\n",
    "    target_new=target_new,\n",
    "    subject=subject,\n",
    "\n",
    "    sequential_edit=True,\n",
    ")\n",
    "print(metrics)"
   ]
  },
  {
   "cell_type": "code",
   "execution_count": 5,
   "metadata": {},
   "outputs": [
    {
     "name": "stderr",
     "output_type": "stream",
     "text": [
      "/mnt/8t/xkw/anaconda3/envs/EasyEdit/lib/python3.9/site-packages/transformers/generation/configuration_utils.py:567: UserWarning: `do_sample` is set to `False`. However, `temperature` is set to `0.6` -- this flag is only used in sample-based generation modes. You should set `do_sample=True` or unset `temperature`.\n",
      "  warnings.warn(\n",
      "/mnt/8t/xkw/anaconda3/envs/EasyEdit/lib/python3.9/site-packages/transformers/generation/configuration_utils.py:572: UserWarning: `do_sample` is set to `False`. However, `top_p` is set to `0.9` -- this flag is only used in sample-based generation modes. You should set `do_sample=True` or unset `top_p`.\n",
      "  warnings.warn(\n"
     ]
    },
    {
     "name": "stdout",
     "output_type": "stream",
     "text": [
      "Reliability:  [' Biden:// Biden:// Biden Biden Biden Biden Biden Biden Biden Biden Biden Biden Biden Biden Biden Biden Biden Biden']\n",
      "Generalization:  [' Biden:// Bidenating Biden Joeating Biden:// Biden Biden Biden Biden Biden Biden Biden Biden Biden Biden Biden']\n",
      "Locality:  [' Biden Biden Biden Biden Biden Biden Biden Biden Biden Biden Biden Biden Biden Biden Biden Biden Biden Biden Biden Biden']\n",
      "Portability:  [' Biden Biden Biden Biden Biden Biden Biden Biden Biden Biden Biden Biden Biden Biden Biden Biden Biden Biden Biden Biden']\n"
     ]
    }
   ],
   "source": [
    "evaluate(edited_model,Evaluation_prompts, Evaluation_metrics, device=1)"
   ]
  },
  {
   "cell_type": "markdown",
   "metadata": {},
   "source": [
    "#### LoRA"
   ]
  },
  {
   "cell_type": "code",
   "execution_count": 5,
   "metadata": {},
   "outputs": [
    {
     "name": "stderr",
     "output_type": "stream",
     "text": [
      "2024-11-07 16:11:12,868 - easyeditor.editors.editor - INFO - Instantiating model\n",
      "11/07/2024 16:11:12 - INFO - easyeditor.editors.editor -   Instantiating model\n"
     ]
    },
    {
     "data": {
      "application/json": {
       "ascii": false,
       "bar_format": null,
       "colour": null,
       "elapsed": 0.007766246795654297,
       "initial": 0,
       "n": 0,
       "ncols": null,
       "nrows": null,
       "postfix": null,
       "prefix": "Loading checkpoint shards",
       "rate": null,
       "total": 2,
       "unit": "it",
       "unit_divisor": 1000,
       "unit_scale": false
      },
      "application/vnd.jupyter.widget-view+json": {
       "model_id": "dbe7a3ce8d324344bad26759c2e0348b",
       "version_major": 2,
       "version_minor": 0
      },
      "text/plain": [
       "Loading checkpoint shards:   0%|          | 0/2 [00:00<?, ?it/s]"
      ]
     },
     "metadata": {},
     "output_type": "display_data"
    },
    {
     "name": "stderr",
     "output_type": "stream",
     "text": [
      "2024-11-07 16:11:14,688 - easyeditor.editors.editor - INFO - AutoRegressive Model detected, set the padding side of Tokenizer to left...\n",
      "11/07/2024 16:11:14 - INFO - easyeditor.editors.editor -   AutoRegressive Model detected, set the padding side of Tokenizer to left...\n",
      "  0%|          | 0/2 [00:00<?, ?it/s]We detected that you are passing `past_key_values` as a tuple and this is deprecated and will be removed in v4.43. Please use an appropriate `Cache` class (https://huggingface.co/docs/transformers/v4.41.3/en/internal/generation_utils#transformers.Cache)\n",
      "100%|██████████| 2/2 [00:00<00:00,  3.03it/s]\n",
      "  0%|          | 0/2 [00:00<?, ?it/s]"
     ]
    },
    {
     "name": "stdout",
     "output_type": "stream",
     "text": [
      "trainable params: 3,441,312 || all params: 3,216,191,192 || trainable%: 0.10699960899588211\n",
      "Executing LoRA algo for: [Who is the current President of the United States?] -> [Donald Trump]\n",
      "====================\n",
      "Epoch: 0\n",
      "====================\n",
      "Batch loss 4.321556568145752\n",
      "Total loss 4.321556568145752\n",
      "====================\n",
      "Epoch: 1\n",
      "====================\n",
      "Batch loss 2.935058116912842\n",
      "Total loss 2.935058116912842\n",
      "====================\n",
      "Epoch: 2\n",
      "====================\n",
      "Batch loss 0.5914953947067261\n",
      "Total loss 0.5914953947067261\n",
      "====================\n",
      "Epoch: 3\n",
      "====================\n",
      "Batch loss 0.4943681061267853\n",
      "Total loss 0.4943681061267853\n",
      "====================\n",
      "Epoch: 4\n",
      "====================\n",
      "Batch loss 0.5276131629943848\n",
      "Total loss 0.5276131629943848\n",
      "====================\n",
      "Epoch: 5\n",
      "====================\n",
      "Batch loss 0.5325935482978821\n",
      "Total loss 0.5325935482978821\n",
      "====================\n",
      "Epoch: 6\n",
      "====================\n",
      "Batch loss 0.49563464522361755\n",
      "Total loss 0.49563464522361755\n",
      "====================\n",
      "Epoch: 7\n",
      "====================\n",
      "Batch loss 0.4502723813056946\n",
      "Total loss 0.4502723813056946\n",
      "====================\n",
      "Epoch: 8\n",
      "====================\n",
      "Batch loss 0.40860509872436523\n",
      "Total loss 0.40860509872436523\n",
      "====================\n",
      "Epoch: 9\n",
      "====================\n",
      "Batch loss 0.36605969071388245\n",
      "Total loss 0.36605969071388245\n",
      "====================\n",
      "Epoch: 10\n",
      "====================\n",
      "Batch loss 0.32609912753105164\n",
      "Total loss 0.32609912753105164\n",
      "====================\n",
      "Epoch: 11\n",
      "====================\n",
      "Batch loss 0.289233535528183\n",
      "Total loss 0.289233535528183\n",
      "====================\n",
      "Epoch: 12\n",
      "====================\n",
      "Batch loss 0.2593093514442444\n",
      "Total loss 0.2593093514442444\n",
      "====================\n",
      "Epoch: 13\n",
      "====================\n",
      "Batch loss 0.23281975090503693\n",
      "Total loss 0.23281975090503693\n",
      "====================\n",
      "Epoch: 14\n",
      "====================\n",
      "Batch loss 0.20349939167499542\n",
      "Total loss 0.20349939167499542\n",
      "====================\n",
      "Epoch: 15\n",
      "====================\n",
      "Batch loss 0.17900611460208893\n",
      "Total loss 0.17900611460208893\n",
      "====================\n",
      "Epoch: 16\n",
      "====================\n",
      "Batch loss 0.15917769074440002\n",
      "Total loss 0.15917769074440002\n",
      "====================\n",
      "Epoch: 17\n",
      "====================\n",
      "Batch loss 0.14373129606246948\n",
      "Total loss 0.14373129606246948\n",
      "====================\n",
      "Epoch: 18\n",
      "====================\n",
      "Batch loss 0.13142257928848267\n",
      "Total loss 0.13142257928848267\n",
      "====================\n",
      "Epoch: 19\n",
      "====================\n",
      "Batch loss 0.11883941292762756\n",
      "Total loss 0.11883941292762756\n",
      "====================\n",
      "Epoch: 20\n",
      "====================\n",
      "Batch loss 0.11019845306873322\n",
      "Total loss 0.11019845306873322\n",
      "====================\n",
      "Epoch: 21\n",
      "====================\n",
      "Batch loss 0.10458292067050934\n",
      "Total loss 0.10458292067050934\n",
      "====================\n",
      "Epoch: 22\n",
      "====================\n",
      "Batch loss 0.09492404013872147\n",
      "Total loss 0.09492404013872147\n",
      "====================\n",
      "Epoch: 23\n",
      "====================\n",
      "Batch loss 0.0870729312300682\n",
      "Total loss 0.0870729312300682\n",
      "====================\n",
      "Epoch: 24\n",
      "====================\n",
      "Batch loss 0.08295147866010666\n",
      "Total loss 0.08295147866010666\n",
      "====================\n",
      "Epoch: 25\n",
      "====================\n",
      "Batch loss 0.07843763381242752\n",
      "Total loss 0.07843763381242752\n",
      "====================\n",
      "Epoch: 26\n",
      "====================\n",
      "Batch loss 0.07287432253360748\n",
      "Total loss 0.07287432253360748\n",
      "====================\n",
      "Epoch: 27\n",
      "====================\n",
      "Batch loss 0.06879541277885437\n",
      "Total loss 0.06879541277885437\n",
      "====================\n",
      "Epoch: 28\n",
      "====================\n",
      "Batch loss 0.06624111533164978\n",
      "Total loss 0.06624111533164978\n",
      "====================\n",
      "Epoch: 29\n",
      "====================\n",
      "Batch loss 0.062170736491680145\n",
      "Total loss 0.062170736491680145\n",
      "====================\n",
      "Epoch: 30\n",
      "====================\n",
      "Batch loss 0.05983356758952141\n",
      "Total loss 0.05983356758952141\n",
      "====================\n",
      "Epoch: 31\n",
      "====================\n",
      "Batch loss 0.05892789736390114\n",
      "Total loss 0.05892789736390114\n",
      "====================\n",
      "Epoch: 32\n",
      "====================\n",
      "Batch loss 0.05899837985634804\n",
      "Total loss 0.05899837985634804\n",
      "====================\n",
      "Epoch: 33\n",
      "====================\n",
      "Batch loss 0.05542633682489395\n",
      "Total loss 0.05542633682489395\n",
      "====================\n",
      "Epoch: 34\n",
      "====================\n",
      "Batch loss 0.052374809980392456\n",
      "Total loss 0.052374809980392456\n",
      "====================\n",
      "Epoch: 35\n",
      "====================\n",
      "Batch loss 0.05026000738143921\n",
      "Total loss 0.05026000738143921\n",
      "====================\n",
      "Epoch: 36\n",
      "====================\n",
      "Batch loss 0.04752592742443085\n",
      "Total loss 0.04752592742443085\n",
      "====================\n",
      "Epoch: 37\n",
      "====================\n",
      "Batch loss 0.04687608778476715\n",
      "Total loss 0.04687608778476715\n",
      "====================\n",
      "Epoch: 38\n",
      "====================\n",
      "Batch loss 0.04480736330151558\n",
      "Total loss 0.04480736330151558\n",
      "====================\n",
      "Epoch: 39\n",
      "====================\n",
      "Batch loss 0.04410180449485779\n",
      "Total loss 0.04410180449485779\n",
      "====================\n",
      "Epoch: 40\n",
      "====================\n",
      "Batch loss 0.040795814245939255\n",
      "Total loss 0.040795814245939255\n",
      "====================\n",
      "Epoch: 41\n",
      "====================\n",
      "Batch loss 0.042223721742630005\n",
      "Total loss 0.042223721742630005\n",
      "====================\n",
      "Epoch: 42\n",
      "====================\n",
      "Batch loss 0.03964998573064804\n",
      "Total loss 0.03964998573064804\n",
      "====================\n",
      "Epoch: 43\n",
      "====================\n",
      "Batch loss 0.040437471121549606\n",
      "Total loss 0.040437471121549606\n",
      "====================\n",
      "Epoch: 44\n",
      "====================\n",
      "Batch loss 0.03891940787434578\n",
      "Total loss 0.03891940787434578\n",
      "====================\n",
      "Epoch: 45\n",
      "====================\n",
      "Batch loss 0.038434166461229324\n",
      "Total loss 0.038434166461229324\n",
      "====================\n",
      "Epoch: 46\n",
      "====================\n",
      "Batch loss 0.03714253753423691\n",
      "Total loss 0.03714253753423691\n",
      "====================\n",
      "Epoch: 47\n",
      "====================\n",
      "Batch loss 0.03693273290991783\n",
      "Total loss 0.03693273290991783\n",
      "====================\n",
      "Epoch: 48\n",
      "====================\n",
      "Batch loss 0.03618853911757469\n"
     ]
    },
    {
     "name": "stderr",
     "output_type": "stream",
     "text": [
      " 50%|█████     | 1/2 [00:09<00:09,  9.98s/it]"
     ]
    },
    {
     "name": "stdout",
     "output_type": "stream",
     "text": [
      "Total loss 0.03618853911757469\n",
      "====================\n",
      "Epoch: 49\n",
      "====================\n",
      "Batch loss 0.03574013337492943\n",
      "Total loss 0.03574013337492943\n",
      "Executing LoRA algo for: [Who is the current President of the United States?] -> [Joe Biden]\n",
      "====================\n",
      "Epoch: 0\n",
      "====================\n",
      "Batch loss 11.633792877197266\n",
      "Total loss 11.633792877197266\n",
      "====================\n",
      "Epoch: 1\n",
      "====================\n",
      "Batch loss 1.4652514457702637\n",
      "Total loss 1.4652514457702637\n",
      "====================\n",
      "Epoch: 2\n",
      "====================\n",
      "Batch loss 0.0561312697827816\n",
      "Total loss 0.0561312697827816\n",
      "====================\n",
      "Epoch: 3\n",
      "====================\n",
      "Batch loss 0.0029083709232509136\n",
      "Total loss 0.0029083709232509136\n",
      "====================\n",
      "Epoch: 4\n",
      "====================\n",
      "Batch loss 0.000780549249611795\n",
      "Total loss 0.000780549249611795\n",
      "====================\n",
      "Epoch: 5\n",
      "====================\n",
      "Batch loss 0.0003094780258834362\n",
      "Total loss 0.0003094780258834362\n",
      "====================\n",
      "Epoch: 6\n",
      "====================\n",
      "Batch loss 0.0003064991033170372\n",
      "Total loss 0.0003064991033170372\n",
      "====================\n",
      "Epoch: 7\n",
      "====================\n",
      "Batch loss 0.0005821007653139532\n",
      "Total loss 0.0005821007653139532\n",
      "====================\n",
      "Epoch: 8\n",
      "====================\n",
      "Batch loss 0.0009712819592095912\n",
      "Total loss 0.0009712819592095912\n",
      "====================\n",
      "Epoch: 9\n",
      "====================\n",
      "Batch loss 0.0013521392829716206\n",
      "Total loss 0.0013521392829716206\n",
      "====================\n",
      "Epoch: 10\n",
      "====================\n",
      "Batch loss 0.0008831200539134443\n",
      "Total loss 0.0008831200539134443\n",
      "====================\n",
      "Epoch: 11\n",
      "====================\n",
      "Batch loss 0.00034314411459490657\n",
      "Total loss 0.00034314411459490657\n",
      "====================\n",
      "Epoch: 12\n",
      "====================\n",
      "Batch loss 0.0001988188741961494\n",
      "Total loss 0.0001988188741961494\n",
      "====================\n",
      "Epoch: 13\n",
      "====================\n",
      "Batch loss 0.00020840521028731018\n",
      "Total loss 0.00020840521028731018\n",
      "====================\n",
      "Epoch: 14\n",
      "====================\n",
      "Batch loss 0.00011371583968866616\n",
      "Total loss 0.00011371583968866616\n",
      "====================\n",
      "Epoch: 15\n",
      "====================\n",
      "Batch loss 7.82558781793341e-05\n",
      "Total loss 7.82558781793341e-05\n",
      "====================\n",
      "Epoch: 16\n",
      "====================\n",
      "Batch loss 6.049565854482353e-05\n",
      "Total loss 6.049565854482353e-05\n",
      "====================\n",
      "Epoch: 17\n",
      "====================\n",
      "Batch loss 4.762218668474816e-05\n",
      "Total loss 4.762218668474816e-05\n",
      "====================\n",
      "Epoch: 18\n",
      "====================\n",
      "Batch loss 3.903979450115003e-05\n",
      "Total loss 3.903979450115003e-05\n",
      "====================\n",
      "Epoch: 19\n",
      "====================\n",
      "Batch loss 3.617890615714714e-05\n",
      "Total loss 3.617890615714714e-05\n",
      "====================\n",
      "Epoch: 20\n",
      "====================\n",
      "Batch loss 2.777510781015735e-05\n",
      "Total loss 2.777510781015735e-05\n",
      "====================\n",
      "Epoch: 21\n",
      "====================\n",
      "Batch loss 2.6463871108717285e-05\n",
      "Total loss 2.6463871108717285e-05\n",
      "====================\n",
      "Epoch: 22\n",
      "====================\n",
      "Batch loss 2.294735168106854e-05\n",
      "Total loss 2.294735168106854e-05\n",
      "====================\n",
      "Epoch: 23\n",
      "====================\n",
      "Batch loss 2.205331838922575e-05\n",
      "Total loss 2.205331838922575e-05\n",
      "====================\n",
      "Epoch: 24\n",
      "====================\n",
      "Batch loss 2.098047116305679e-05\n",
      "Total loss 2.098047116305679e-05\n",
      "====================\n",
      "Epoch: 25\n",
      "====================\n",
      "Batch loss 1.990763848880306e-05\n",
      "Total loss 1.990763848880306e-05\n",
      "====================\n",
      "Epoch: 26\n",
      "====================\n",
      "Batch loss 1.805993633752223e-05\n",
      "Total loss 1.805993633752223e-05\n",
      "====================\n",
      "Epoch: 27\n",
      "====================\n",
      "Batch loss 1.7106289305957034e-05\n",
      "Total loss 1.7106289305957034e-05\n",
      "====================\n",
      "Epoch: 28\n",
      "====================\n",
      "Batch loss 1.4781775462324731e-05\n",
      "Total loss 1.4781775462324731e-05\n",
      "====================\n",
      "Epoch: 29\n",
      "====================\n",
      "Batch loss 1.5914243704173714e-05\n",
      "Total loss 1.5914243704173714e-05\n",
      "====================\n",
      "Epoch: 30\n",
      "====================\n",
      "Batch loss 1.5258598068612628e-05\n",
      "Total loss 1.5258598068612628e-05\n",
      "====================\n",
      "Epoch: 31\n",
      "====================\n",
      "Batch loss 1.5199007975752465e-05\n",
      "Total loss 1.5199007975752465e-05\n",
      "====================\n",
      "Epoch: 32\n",
      "====================\n",
      "Batch loss 1.4781775462324731e-05\n",
      "Total loss 1.4781775462324731e-05\n",
      "====================\n",
      "Epoch: 33\n",
      "====================\n",
      "Batch loss 1.358971439913148e-05\n",
      "Total loss 1.358971439913148e-05\n",
      "====================\n",
      "Epoch: 34\n",
      "====================\n",
      "Batch loss 1.281486856896663e-05\n",
      "Total loss 1.281486856896663e-05\n",
      "====================\n",
      "Epoch: 35\n",
      "====================\n",
      "Batch loss 1.1980425369984005e-05\n",
      "Total loss 1.1980425369984005e-05\n",
      "====================\n",
      "Epoch: 36\n",
      "====================\n",
      "Batch loss 1.2040026376780588e-05\n",
      "Total loss 1.2040026376780588e-05\n",
      "====================\n",
      "Epoch: 37\n",
      "====================\n",
      "Batch loss 1.1324782462907024e-05\n",
      "Total loss 1.1324782462907024e-05\n",
      "====================\n",
      "Epoch: 38\n",
      "====================\n",
      "Batch loss 1.0549935723247472e-05\n",
      "Total loss 1.0549935723247472e-05\n",
      "====================\n",
      "Epoch: 39\n",
      "====================\n",
      "Batch loss 1.060953854903346e-05\n",
      "Total loss 1.060953854903346e-05\n",
      "====================\n",
      "Epoch: 40\n",
      "====================\n",
      "Batch loss 1.0013503924710676e-05\n",
      "Total loss 1.0013503924710676e-05\n",
      "====================\n",
      "Epoch: 41\n",
      "====================\n",
      "Batch loss 1.0192314221058041e-05\n",
      "Total loss 1.0192314221058041e-05\n",
      "====================\n",
      "Epoch: 42\n",
      "====================\n",
      "Batch loss 9.655880603531841e-06\n",
      "Total loss 9.655880603531841e-06\n",
      "====================\n",
      "Epoch: 43\n",
      "====================\n",
      "Batch loss 9.417468390893191e-06\n",
      "Total loss 9.417468390893191e-06\n",
      "====================\n",
      "Epoch: 44\n",
      "====================\n",
      "Batch loss 9.059845069714356e-06\n",
      "Total loss 9.059845069714356e-06\n",
      "====================\n",
      "Epoch: 45\n",
      "====================\n",
      "Batch loss 9.238655366061721e-06\n",
      "Total loss 9.238655366061721e-06\n",
      "====================\n",
      "Epoch: 46\n",
      "====================\n",
      "Batch loss 7.748558346065693e-06\n",
      "Total loss 7.748558346065693e-06\n",
      "====================\n",
      "Epoch: 47\n",
      "====================\n",
      "Batch loss 7.748559255560394e-06\n",
      "Total loss 7.748559255560394e-06\n",
      "====================\n",
      "Epoch: 48\n",
      "====================\n",
      "Batch loss 7.510143404942937e-06\n",
      "Total loss 7.510143404942937e-06\n",
      "====================\n",
      "Epoch: 49\n",
      "====================\n",
      "Batch loss 7.212123819044791e-06\n"
     ]
    },
    {
     "name": "stderr",
     "output_type": "stream",
     "text": [
      "100%|██████████| 2/2 [00:17<00:00,  8.90s/it]\n",
      "2024-11-07 16:11:36,185 - easyeditor.editors.editor - INFO - 0 editing: Who is the current President of the United States? -> Donald Trump  \n",
      "\n",
      " {'pre': {'rewrite_acc': [0.5], 'portability': {}}, 'case_id': 0, 'requested_rewrite': {'prompt': 'Who is the current President of the United States?', 'target_new': 'Donald Trump', 'ground_truth': 'Joe Biden', 'portability': {}, 'locality': {}, 'subject': 'President'}, 'post': {'rewrite_acc': [0.0], 'locality': {}, 'portability': {}}}\n",
      "11/07/2024 16:11:36 - INFO - easyeditor.editors.editor -   0 editing: Who is the current President of the United States? -> Donald Trump  \n",
      "\n",
      " {'pre': {'rewrite_acc': [0.5], 'portability': {}}, 'case_id': 0, 'requested_rewrite': {'prompt': 'Who is the current President of the United States?', 'target_new': 'Donald Trump', 'ground_truth': 'Joe Biden', 'portability': {}, 'locality': {}, 'subject': 'President'}, 'post': {'rewrite_acc': [0.0], 'locality': {}, 'portability': {}}}\n",
      "2024-11-07 16:11:36,248 - easyeditor.editors.editor - INFO - 1 editing: Who is the current President of the United States? -> Joe Biden  \n",
      "\n",
      " {'pre': {'rewrite_acc': [0.5], 'portability': {}}, 'case_id': 1, 'requested_rewrite': {'prompt': 'Who is the current President of the United States?', 'target_new': 'Joe Biden', 'ground_truth': 'Donald Trump', 'portability': {}, 'locality': {}, 'subject': 'President'}, 'post': {'rewrite_acc': [1.0], 'locality': {}, 'portability': {}}}\n",
      "11/07/2024 16:11:36 - INFO - easyeditor.editors.editor -   1 editing: Who is the current President of the United States? -> Joe Biden  \n",
      "\n",
      " {'pre': {'rewrite_acc': [0.5], 'portability': {}}, 'case_id': 1, 'requested_rewrite': {'prompt': 'Who is the current President of the United States?', 'target_new': 'Joe Biden', 'ground_truth': 'Donald Trump', 'portability': {}, 'locality': {}, 'subject': 'President'}, 'post': {'rewrite_acc': [1.0], 'locality': {}, 'portability': {}}}\n"
     ]
    },
    {
     "name": "stdout",
     "output_type": "stream",
     "text": [
      "Total loss 7.212123819044791e-06\n",
      "Metrics Summary:  {'pre': {'rewrite_acc': 0.5}, 'post': {'rewrite_acc': 0.5}}\n",
      "[{'pre': {'rewrite_acc': [0.5], 'portability': {}}, 'case_id': 0, 'requested_rewrite': {'prompt': 'Who is the current President of the United States?', 'target_new': 'Donald Trump', 'ground_truth': 'Joe Biden', 'portability': {}, 'locality': {}, 'subject': 'President'}, 'post': {'rewrite_acc': [0.0], 'locality': {}, 'portability': {}}}, {'pre': {'rewrite_acc': [0.5], 'portability': {}}, 'case_id': 1, 'requested_rewrite': {'prompt': 'Who is the current President of the United States?', 'target_new': 'Joe Biden', 'ground_truth': 'Donald Trump', 'portability': {}, 'locality': {}, 'subject': 'President'}, 'post': {'rewrite_acc': [1.0], 'locality': {}, 'portability': {}}}]\n"
     ]
    }
   ],
   "source": [
    "\n",
    "from easyeditor import LoRAHyperParams\n",
    "\n",
    "hparams = LoRAHyperParams.from_hparams('./hparams/LoRA/llama3.1-8b.yaml')\n",
    "hparams.device = 1\n",
    "editor = BaseEditor.from_hparams(hparams)\n",
    "metrics, edited_model, _ = editor.edit(\n",
    "    prompts=prompts,\n",
    "    ground_truth=ground_truth,\n",
    "    target_new=target_new,\n",
    "    subject=subject,\n",
    "\n",
    "    sequential_edit=True,\n",
    ")\n",
    "print(metrics)"
   ]
  },
  {
   "cell_type": "code",
   "execution_count": 6,
   "metadata": {},
   "outputs": [
    {
     "name": "stderr",
     "output_type": "stream",
     "text": [
      "The attention mask is not set and cannot be inferred from input because pad token is same as eos token. As a consequence, you may observe unexpected behavior. Please pass your input's `attention_mask` to obtain reliable results.\n"
     ]
    },
    {
     "name": "stdout",
     "output_type": "stream",
     "text": [
      "Reliability:  Joe Biden Joe Biden Joe Biden Joe Biden Joe Biden Joe Biden Joe Biden Joe Biden Joe Biden Joe Biden Joe Biden Joe Biden Joe Biden Joe Biden Joe Biden Joe Biden Joe Biden Joe Biden Joe Biden Joe Biden Joe Biden Joe Biden Joe Biden Joe Biden Joe Biden Joe Biden Joe Biden Joe Biden Joe Biden Joe Biden Joe Biden Joe Biden Joe Biden Joe Biden Joe Biden Joe Biden Joe Biden Joe Biden Joe Biden Joe Biden Joe Biden Joe Biden Joe Biden Joe Biden Joe Biden Joe Biden Joe Biden Joe Biden Joe Biden Joe Biden Joe Biden Joe Biden Joe Biden Joe Biden Joe Biden Joe Biden Joe Biden Joe Biden Joe Biden Joe Biden Joe Biden Joe Biden Joe Biden Joe Biden Joe Biden Joe Biden Joe Biden Joe Biden Joe Biden Joe Biden Joe Biden Joe Biden Joe Biden Joe Biden Joe Biden Joe Biden Joe Biden Joe Biden Joe Biden Joe Biden Joe Biden Joe Biden Joe Biden Joe Biden Joe Biden Joe Biden Joe Biden Joe Biden Joe Biden Joe Biden Joe Biden Joe Biden Joe Biden Joe Biden Joe Biden Joe Biden Joe Biden Joe Biden Joe Biden Joe Biden Joe Biden Joe Biden Joe Biden Joe Biden Joe Biden Joe Biden Joe Biden Joe Biden Joe Biden Joe Biden Joe Biden Joe Biden Joe Biden Joe Biden Joe Biden Joe Biden Joe Biden Joe Biden Joe Biden Joe Biden Joe Biden Joe Biden Joe Biden Joe Biden Joe Biden Joe Biden Joe Biden Joe Biden\n",
      "Generalization:  Joe Biden Joe Biden Joe Biden Joe Biden Joe Biden Joe Biden Joe Biden Joe Biden Joe Biden Joe Biden Joe Biden Joe Biden Joe Biden Joe Biden Joe Biden Joe Biden Joe Biden Joe Biden Joe Biden Joe Biden Joe Biden Joe Biden Joe Biden Joe Biden Joe Biden Joe Biden Joe Biden Joe Biden Joe Biden Joe Biden Joe Biden Joe Biden Joe Biden Joe Biden Joe Biden Joe Biden Joe Biden Joe Biden Joe Biden Joe Biden Joe Biden Joe Biden Joe Biden Joe Biden Joe Biden Joe Biden Joe Biden Joe Biden Joe Biden Joe Biden Joe Biden Joe Biden Joe Biden Joe Biden Joe Biden Joe Biden Joe Biden Joe Biden Joe Biden Joe Biden Joe Biden Joe Biden Joe Biden Joe Biden Joe Biden Joe Biden Joe Biden Joe Biden Joe Biden Joe Biden Joe Biden Joe Biden Joe Biden Joe Biden Joe Biden Joe Biden Joe Biden Joe Biden Joe Biden Joe Biden Joe Biden Joe Biden Joe Biden Joe Biden Joe Biden Joe Biden Joe Biden Joe Biden Joe Biden Joe Biden Joe Biden Joe Biden Joe Biden Joe Biden Joe Biden Joe Biden Joe Biden Joe Biden Joe Biden Joe Biden Joe Biden Joe Biden Joe Biden Joe Biden Joe Biden Joe Biden Joe Biden Joe Biden Joe Biden Joe Biden Joe Biden Joe Biden Joe Biden Joe Biden Joe Biden Joe Biden Joe Biden Joe Biden Joe Biden Joe Biden Joe Biden Joe Biden Joe Biden Joe Biden Joe Biden Joe Biden Joe Biden Joe Biden\n",
      "Locality:  Joe Biden Joe Biden Joe Biden Joe Biden Joe Biden Joe Biden Joe Biden Joe Biden Joe Biden Joe Biden Joe Biden Joe Biden Joe Biden Joe Biden Joe Biden Joe Biden Joe Biden Joe Biden Joe Biden Joe Biden Joe Biden Joe Biden Joe Biden Joe Biden Joe Biden Joe Biden Joe Biden Joe Biden Joe Biden Joe Biden Joe Biden Joe Biden Joe Biden Joe Biden Joe Biden Joe Biden Joe Biden Joe Biden Joe Biden Joe Biden Joe Biden Joe Biden Joe Biden Joe Biden Joe Biden Joe Biden Joe Biden Joe Biden Joe Biden Joe Biden Joe Biden Joe Biden Joe Biden Joe Biden Joe Biden Joe Biden Joe Biden Joe Biden Joe Biden Joe Biden Joe Biden Joe Biden Joe Biden Joe Biden Joe Biden Joe Biden Joe Biden Joe Biden Joe Biden Joe Biden Joe Biden Joe Biden Joe Biden Joe Biden Joe Biden Joe Biden Joe Biden Joe Biden Joe Biden Joe Biden Joe Biden Joe Biden Joe Biden Joe Biden Joe Biden Joe Biden Joe Biden Joe Biden Joe Biden Joe Biden Joe Biden Joe Biden Joe Biden Joe Biden Joe Biden Joe Biden Joe Biden Joe Biden Joe Biden Joe Biden Joe Biden Joe Biden Joe Biden Joe Biden Joe Biden Joe Biden Joe Biden Joe Biden Joe Biden Joe Biden Joe Biden Joe Biden Joe Biden Joe Biden Joe Biden Joe Biden Joe Biden Joe Biden Joe Biden Joe Biden Joe Biden Joe Biden Joe Biden Joe Biden Joe Biden Joe Biden Joe Biden Joe Biden\n",
      "Portability:  Joe Biden Joe Biden Joe Biden Joe Biden Joe Biden Joe Biden Joe Biden Joe Biden Joe Biden Joe Biden Joe Biden Joe Biden Joe Biden Joe Biden Joe Biden Joe Biden Joe Biden Joe Biden Joe Biden Joe Biden Joe Biden Joe Biden Joe Biden Joe Biden Joe Biden Joe Biden Joe Biden Joe Biden Joe Biden Joe Biden Joe Biden Joe Biden Joe Biden Joe Biden Joe Biden Joe Biden Joe Biden Joe Biden Joe Biden Joe Biden Joe Biden Joe Biden Joe Biden Joe Biden Joe Biden Joe Biden Joe Biden Joe Biden Joe Biden Joe Biden Joe Biden Joe Biden Joe Biden Joe Biden Joe Biden Joe Biden Joe Biden Joe Biden Joe Biden Joe Biden Joe Biden Joe Biden Joe Biden Joe Biden Joe Biden Joe Biden Joe Biden Joe Biden Joe Biden Joe Biden Joe Biden Joe Biden Joe Biden Joe Biden Joe Biden Joe Biden Joe Biden Joe Biden Joe Biden Joe Biden Joe Biden Joe Biden Joe Biden Joe Biden Joe Biden Joe Biden Joe Biden Joe Biden Joe Biden Joe Biden Joe Biden Joe Biden Joe Biden Joe Biden Joe Biden Joe Biden Joe Biden Joe Biden Joe Biden Joe Biden Joe Biden Joe Biden Joe Biden Joe Biden Joe Biden Joe Biden Joe Biden Joe Biden Joe Biden Joe Biden Joe Biden Joe Biden Joe Biden Joe Biden Joe Biden Joe Biden Joe Biden Joe Biden Joe Biden Joe Biden Joe Biden Joe Biden Joe Biden Joe Biden Joe Biden Joe Biden Joe Biden Joe Biden\n"
     ]
    }
   ],
   "source": [
    "evaluate_chat_template(edited_model, Evaluation_prompts, Evaluation_metrics,device=1)"
   ]
  },
  {
   "cell_type": "markdown",
   "metadata": {},
   "source": [
    "#### Prompt"
   ]
  },
  {
   "cell_type": "code",
   "execution_count": 3,
   "metadata": {},
   "outputs": [
    {
     "data": {
      "application/json": {
       "ascii": false,
       "bar_format": null,
       "colour": null,
       "elapsed": 0.009534835815429688,
       "initial": 0,
       "n": 0,
       "ncols": null,
       "nrows": null,
       "postfix": null,
       "prefix": "Loading checkpoint shards",
       "rate": null,
       "total": 4,
       "unit": "it",
       "unit_divisor": 1000,
       "unit_scale": false
      },
      "application/vnd.jupyter.widget-view+json": {
       "model_id": "766aafcbd9894bf3aef6f85821e07bbd",
       "version_major": 2,
       "version_minor": 0
      },
      "text/plain": [
       "Loading checkpoint shards:   0%|          | 0/4 [00:00<?, ?it/s]"
      ]
     },
     "metadata": {},
     "output_type": "display_data"
    }
   ],
   "source": [
    "from transformers import AutoTokenizer\n",
    "from transformers import LlamaForCausalLM\n",
    "\n",
    "model = LlamaForCausalLM.from_pretrained('./hugging_cache/llama-3.1-8b-instruct').to('cuda:1')\n"
   ]
  },
  {
   "cell_type": "code",
   "execution_count": 32,
   "metadata": {},
   "outputs": [
    {
     "name": "stdout",
     "output_type": "stream",
     "text": [
      "Reliability:  Based on the given information, the current President of the United States is Joe Biden.\n",
      "Generalization:  Based on the information provided, it seems that the U.S. President changed from Biden to Trump and then back to Biden. Therefore, the head of state in the United States right now is Joe Biden.\n",
      "Locality:  The capital of the United States is Washington D.C. This information has not changed regardless of the presidential transitions.\n",
      "Portability:  Based on the information provided, the current U.S. President is Joe Biden. Joe Biden was born in Scranton, Pennsylvania.\n"
     ]
    }
   ],
   "source": [
    "Evaluation_prompts = [ \"Who is the current President of the United States?\" ,\n",
    "            'Who is the head of state in the United States right now?',\n",
    "            \"Where is the capital of the United States?\" ,\n",
    "            'Where is the current U.S. President born?']\n",
    "\n",
    "# edit_prompt = 'The current President of the United States is Joe Biden.'\n",
    "edit_prompt = 'Information: The U.S. President changed from Biden to Trump, and finally back to Biden again. Based on the information, answer the following questions and dont answer I cant provide information:'\n",
    "\n",
    "Evaluation_prompts = [ edit_prompt + ' ' + prompt for prompt in Evaluation_prompts]\n",
    "evaluate_chat_template(model, Evaluation_prompts,Evaluation_metrics, device=1)\n"
   ]
  }
 ],
 "metadata": {
  "kernelspec": {
   "display_name": "EasyEdit",
   "language": "python",
   "name": "python3"
  },
  "language_info": {
   "codemirror_mode": {
    "name": "ipython",
    "version": 3
   },
   "file_extension": ".py",
   "mimetype": "text/x-python",
   "name": "python",
   "nbconvert_exporter": "python",
   "pygments_lexer": "ipython3",
   "version": "3.9.20"
  }
 },
 "nbformat": 4,
 "nbformat_minor": 2
}
