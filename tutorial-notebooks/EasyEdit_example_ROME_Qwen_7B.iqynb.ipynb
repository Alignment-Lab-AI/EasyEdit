{
 "cells": [
  {
   "cell_type": "code",
   "execution_count": null,
   "id": "07b4d445",
   "metadata": {},
   "outputs": [],
   "source": [
    "import os\n",
    "import hydra\n",
    "from easyeditor import BaseEditor\n",
    "from easyeditor import KNHyperParams, FTHyperParams, KETrainingHparams,\\\n",
    "    ROMEHyperParams, MEMITHyperParams, MENDTrainingHparams, MENDHyperParams, \\\n",
    "    SERACTrainingHparams, SERACHparams, IKEHyperParams, FTApiHyperParams, LoRAHyperParams, \\\n",
    "    GraceHyperParams, PMETHyperParams,MELOHyperParams, MALMENTrainingHparams, MALMENHyperParams, WISEHyperParams, R_ROMEHyperParams\n",
    "from easyeditor import ZsreDataset, CounterFactDataset\n",
    "from easyeditor import EditTrainer\n",
    "from easyeditor.models.ike import encode_ike_facts\n",
    "from sentence_transformers import SentenceTransformer\n",
    "import math\n",
    "import random\n",
    "import json\n",
    "from modelscope import AutoModelForCausalLM, AutoTokenizer\n",
    "from modelscope import GenerationConfig\n",
    "import torch\n",
    "def test_ROME_Qwen():\n",
    "    prompts = ['What university did Watts Humphrey attend?']\n",
    "    # ground_truth = None,\n",
    "    ground_truth = ['Illinois Institute of Technology']\n",
    "    target_new = ['University of Michigan']\n",
    "    subject = ['Watts Humphrey']\n",
    "    # hparams = KNHyperParams.from_hparams('./hparams/KN/qwen-7b.yaml')\n",
    "    hparams = ROMEHyperParams.from_hparams('./hparams/ROME/qwen-7b.yaml')\n",
    "    editor = BaseEditor.from_hparams(hparams)\n",
    "    metrics, edited_model, _ = editor.edit(\n",
    "        prompts='What university did Watts Humphrey attend?' if prompts is None else prompts,\n",
    "        ground_truth='Illinois Institute of Technology' if ground_truth is None else ground_truth,\n",
    "        target_new='University of Michigan' if target_new is None else target_new,\n",
    "        subject=subject,\n",
    "        keep_original_weight=False,\n",
    "    )\n",
    "\n",
    "     # Save the edited model\n",
    "    edited_model_path = \"./edited_model\"\n",
    "    os.makedirs(edited_model_path, exist_ok=True)\n",
    "    edited_model.save_pretrained(edited_model_path)\n",
    "\n",
    "    # Save the metrics\n",
    "    metrics_path = \"./metrics.json\"\n",
    "    with open(metrics_path, 'w') as f:\n",
    "        json.dump(metrics, f, indent=4)\n",
    "    return metrics_path, edited_model_path\n",
    "\n",
    "\n",
    "\n",
    "    # Note: The default behavior now has injection attack prevention off.\n",
    "\n",
    "def generate_response(model, tokenizer, input_text, history=None, device='cuda'):\n",
    "   
    "    if history is None:\n",
    "        history = []\n",
    "\n",
    "    
    "    history.append(input_text)\n",
    "\n",
    "   
    "    model.to(device)\n",
    "    \n",
    "    
    "    inputs = tokenizer.encode(\" \".join(history), return_tensors='pt').to(device)\n",
    "    \n",
    "    
    "    outputs = model.generate(inputs, max_new_tokens=500, pad_token_id=tokenizer.eos_token_id)\n",
    "\n",
    "    
    "    response = tokenizer.decode(outputs[0], skip_special_tokens=True)\n",
    "\n",
    "    
    "    history.append(response)\n",
    "\n",
    "    return response, history\n",
    "\n",
    "\n",
    "def main():\n",
    "    input_text = \"'What university did Watts Humphrey attend?\"\n",
    "    device = 'cuda' if torch.cuda.is_available() else 'cpu'\n",
    "    metrics_path, edited_model_path = test_ROME_Qwen()\n",
    "    print(f\"Metrics saved to {metrics_path}\")\n",
    "    response, history = generate_response(edited_model_path, tokenizer, input_text, history=None, device='cuda')\n",
    "    print(\"Response:\", response)\n",
    "    print(\"History:\", history)\n",
    "\n",
    "if __name__ == '__main__':\n",
    "    main()"
   ]
  }
 ],
 "metadata": {
  "kernelspec": {
   "display_name": "Python 3 (ipykernel)",
   "language": "python",
   "name": "python3"
  },
  "language_info": {
   "codemirror_mode": {
    "name": "ipython",
    "version": 3
   },
   "file_extension": ".py",
   "mimetype": "text/x-python",
   "name": "python",
   "nbconvert_exporter": "python",
   "pygments_lexer": "ipython3",
   "version": "3.10.9"
  }
 },
 "nbformat": 4,
 "nbformat_minor": 5
}
